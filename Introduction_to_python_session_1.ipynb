{
 "metadata": {
  "name": "Introduction_to_python_session_1"
 },
 "nbformat": 3,
 "nbformat_minor": 0,
 "worksheets": [
  {
   "cells": [
    {
     "cell_type": "markdown",
     "metadata": {},
     "source": [
      "#<center>An introduction to solving biological problems with Python</center>\n",
      "<center>Tim Stevens, Graham Ritchie, Gabor Bunkoczi, James Morris</center>"
     ]
    },
    {
     "cell_type": "markdown",
     "metadata": {},
     "source": [
      "## The Python programming language\n",
      "\n",
      "- Python is a *dynamic, interpreted* general purpose programming language initially created by Guido van Rossum in 1991\n",
      "- It is a powerful language that supports several popular programming paradigms:\n",
      "    - procedural\n",
      "    - object-oriented\n",
      "    - functional\n",
      "- Python is widely used in bioinformatics and scientific computing, as well as many other fields and industry\n",
      "- Python is considered to come with \"batteries included\" and the <a href=\"http://docs.python.org/2/library/\">standard library</a> (some of which we will see in this course) provides built-in support for lots of common tasks:\n",
      "    - interacting with files and the operating system\n",
      "    - working on networks and the internet\n",
      "    - numerical & mathematical functions \n",
      "    - graphical user interfaces\n",
      "    - ...\n",
      "- There is also a wide range of external libraries for areas not covered in the standard library, such as the BioPython project which provides tools for bioinformatics - we look at this briefly tomorrow\n",
      "- Python is available on all popular operating systems\n",
      "    - Macs\n",
      "    - Windows\n",
      "    - Linux\n"
     ]
    },
    {
     "cell_type": "heading",
     "level": 2,
     "metadata": {},
     "source": [
      "Getting started"
     ]
    },
    {
     "cell_type": "markdown",
     "metadata": {},
     "source": [
      "Python is an *interpreted* language, this means that your computer does not run Python code natively, but instead we run our code using the Python *interpreter*.\n",
      "\n",
      "There are two ways in which you can run Python code:\n",
      "\n",
      "1. Directly typing commands into the interpreter\n",
      "    - Good for experimenting with the language, and for some interactive work\n",
      "2. Typing code into a file and then telling the interpreter to run the code from this file\n",
      "    - Good for larger programs, and when you want to run the same code repeatedly\n",
      "\n",
      "While we are initially exploring the language we will use the interpreter interactively. \n",
      "\n",
      "How you start the interpreter will depend on which operating system you are using, but on a Mac or Linux machine you should start a terminal and then just type the command <tt>python</tt>. This will print out some information about your installation of python and then leave you with a command prompt which looks like \"<tt>>>></tt>\". You can then type commands and press <tt>Enter</tt> when you're done. Python will run the code you typed, and might display some output on the line below, before leaving you with another prompt.\n",
      "\n",
      "If you want to exit the interactive interpreter you can type the command <tt>quit()</tt>, or type <tt>Ctrl-D</tt>.\n",
      "\n",
      "<center><img src=\"files/img/python_shell.png\"></center>\n",
      "\n",
      "Open your terminal and start the interpreter and try typing in the commands we introduce below.\n",
      "\n",
      "We will see later how to save code in a file and run it."
     ]
    },
    {
     "cell_type": "heading",
     "level": 2,
     "metadata": {},
     "source": [
      "Printing values"
     ]
    },
    {
     "cell_type": "markdown",
     "metadata": {},
     "source": [
      "The first bit of python syntax we're going to learn is the <tt>print</tt> statement. This command lets us print messages to the user, and also to see what Python thinks is the value of some expression (very useful when debugging your programs).\n",
      "\n",
      "We will go into details later on, but for now just note that to print some text you have to enclose it in  \"quotation marks\". \n",
      "\n",
      "We will go into detail on the arithmetic operations supported in python shortly, but you can try exploring python's calculating abilities."
     ]
    },
    {
     "cell_type": "code",
     "collapsed": false,
     "input": [
      "print \"Hello from python!\""
     ],
     "language": "python",
     "metadata": {},
     "outputs": [
      {
       "output_type": "stream",
       "stream": "stdout",
       "text": [
        "Hello from python!\n"
       ]
      }
     ],
     "prompt_number": 1
    },
    {
     "cell_type": "code",
     "collapsed": false,
     "input": [
      "print 34"
     ],
     "language": "python",
     "metadata": {},
     "outputs": [
      {
       "output_type": "stream",
       "stream": "stdout",
       "text": [
        "34\n"
       ]
      }
     ],
     "prompt_number": 2
    },
    {
     "cell_type": "code",
     "collapsed": false,
     "input": [
      "print 2 + 3"
     ],
     "language": "python",
     "metadata": {},
     "outputs": [
      {
       "output_type": "stream",
       "stream": "stdout",
       "text": [
        "5\n"
       ]
      }
     ],
     "prompt_number": 3
    },
    {
     "cell_type": "markdown",
     "metadata": {},
     "source": [
      "You can print  multiple expressions you need to seperate them with commas. Python will insert a space between each element, and a newline at the end of the message (though you can suppress this behaviour by leaving a trailing comma at the end of the command)."
     ]
    },
    {
     "cell_type": "code",
     "collapsed": false,
     "input": [
      "print \"The answer:\", 42"
     ],
     "language": "python",
     "metadata": {},
     "outputs": [
      {
       "output_type": "stream",
       "stream": "stdout",
       "text": [
        "The answer: 42\n"
       ]
      }
     ],
     "prompt_number": 4
    },
    {
     "cell_type": "markdown",
     "metadata": {},
     "source": [
      "Be very careful with spaces at the beginning of code lines:"
     ]
    },
    {
     "cell_type": "code",
     "collapsed": false,
     "input": [
      "  print \"This gives an error\""
     ],
     "language": "python",
     "metadata": {},
     "outputs": [
      {
       "ename": "IndentationError",
       "evalue": "unexpected indent (<ipython-input-5-9d73cab56272>, line 1)",
       "output_type": "pyerr",
       "traceback": [
        "\u001b[0;36m  File \u001b[0;32m\"<ipython-input-5-9d73cab56272>\"\u001b[0;36m, line \u001b[0;32m1\u001b[0m\n\u001b[0;31m    print \"This gives an error\"\u001b[0m\n\u001b[0m    ^\u001b[0m\n\u001b[0;31mIndentationError\u001b[0m\u001b[0;31m:\u001b[0m unexpected indent\n"
       ]
      }
     ],
     "prompt_number": 5
    },
    {
     "cell_type": "code",
     "collapsed": false,
     "input": [
      "print     \"This will work\""
     ],
     "language": "python",
     "metadata": {},
     "outputs": [
      {
       "output_type": "stream",
       "stream": "stdout",
       "text": [
        "This will work\n"
       ]
      }
     ],
     "prompt_number": 6
    },
    {
     "cell_type": "heading",
     "level": 2,
     "metadata": {},
     "source": [
      "Using variables"
     ]
    },
    {
     "cell_type": "markdown",
     "metadata": {},
     "source": [
      "In the <tt>print</tt> commands above we have directly operated on values such as text strings and numbers. When programming we will typically want to deal with rather more complex expressions where it is useful to be able to assign a name to an expression, especially if we are trying to deal with multiple values at the same time.\n",
      "\n",
      "We can give a name to a value using _variables_, the name is apt because the values stored in a variable can _vary_. Unlike some other languages, the type of value assigned to a variable can also change (this one of the reasons python is known as a _dynamic_ language).\n",
      "\n",
      "A variable can be assigned to a simple value or the outcome of a more complex expression.\n",
      "\n",
      "A variable can be called whatever you like (as long as it starts with a character) and you assign a value to a variable with the <tt>=</tt> operator. Note that this is different to mathematical equality (which we will come to later...)\n",
      "\n",
      "You can <tt>print</tt> a variable to see what python thinks its current value is."
     ]
    },
    {
     "cell_type": "code",
     "collapsed": false,
     "input": [
      "x = 3\n",
      "print x"
     ],
     "language": "python",
     "metadata": {},
     "outputs": [
      {
       "output_type": "stream",
       "stream": "stdout",
       "text": [
        "3\n"
       ]
      }
     ],
     "prompt_number": 7
    },
    {
     "cell_type": "code",
     "collapsed": false,
     "input": [
      "x = 2 + 2\n",
      "print x"
     ],
     "language": "python",
     "metadata": {},
     "outputs": [
      {
       "output_type": "stream",
       "stream": "stdout",
       "text": [
        "4\n"
       ]
      }
     ],
     "prompt_number": 8
    },
    {
     "cell_type": "code",
     "collapsed": false,
     "input": [
      "serine = \"TCA\"\n",
      "print serine, \"codes for serine\"\n",
      "serine = \"TCG\"\n",
      "print \"as does\",serine"
     ],
     "language": "python",
     "metadata": {},
     "outputs": [
      {
       "output_type": "stream",
       "stream": "stdout",
       "text": [
        "TCA codes for serine\n",
        "as does TCG\n"
       ]
      }
     ],
     "prompt_number": 9
    },
    {
     "cell_type": "markdown",
     "metadata": {},
     "source": [
      "In the interactive interpreter you don't have to <tt>print</tt> everything, if you type a variable name (or just a value), the interpreter will automatically print out what python thinks the value is. Note though that this is not the case if your code is in a file."
     ]
    },
    {
     "cell_type": "code",
     "collapsed": false,
     "input": [
      "3 + 4"
     ],
     "language": "python",
     "metadata": {},
     "outputs": [
      {
       "output_type": "pyout",
       "prompt_number": 10,
       "text": [
        "7"
       ]
      }
     ],
     "prompt_number": 10
    },
    {
     "cell_type": "code",
     "collapsed": false,
     "input": [
      "x"
     ],
     "language": "python",
     "metadata": {},
     "outputs": [
      {
       "output_type": "pyout",
       "prompt_number": 11,
       "text": [
        "4"
       ]
      }
     ],
     "prompt_number": 11
    },
    {
     "cell_type": "code",
     "collapsed": false,
     "input": [
      "x = 5\n",
      "3 * x"
     ],
     "language": "python",
     "metadata": {},
     "outputs": [
      {
       "output_type": "pyout",
       "prompt_number": 12,
       "text": [
        "15"
       ]
      }
     ],
     "prompt_number": 12
    },
    {
     "cell_type": "markdown",
     "metadata": {},
     "source": [
      "Variables can be used on the right hand side of an assignment as well, in which case they will be evaluated before the value is assigned to the variable on the left hand side."
     ]
    },
    {
     "cell_type": "code",
     "collapsed": false,
     "input": [
      "y = x * 3\n",
      "y"
     ],
     "language": "python",
     "metadata": {},
     "outputs": [
      {
       "output_type": "pyout",
       "prompt_number": 13,
       "text": [
        "15"
       ]
      }
     ],
     "prompt_number": 13
    },
    {
     "cell_type": "markdown",
     "metadata": {},
     "source": [
      "You can use the current value of a variable itself in an assignment"
     ]
    },
    {
     "cell_type": "code",
     "collapsed": false,
     "input": [
      "y = y + 1\n",
      "y"
     ],
     "language": "python",
     "metadata": {},
     "outputs": [
      {
       "output_type": "pyout",
       "prompt_number": 14,
       "text": [
        "16"
       ]
      }
     ],
     "prompt_number": 14
    },
    {
     "cell_type": "markdown",
     "metadata": {},
     "source": [
      "In fact this is such a common idiom that there are special operators that will do this implicitly (more on these later)"
     ]
    },
    {
     "cell_type": "code",
     "collapsed": false,
     "input": [
      "y += 1\n",
      "y"
     ],
     "language": "python",
     "metadata": {},
     "outputs": [
      {
       "output_type": "pyout",
       "prompt_number": 15,
       "text": [
        "17"
       ]
      }
     ],
     "prompt_number": 15
    },
    {
     "cell_type": "heading",
     "level": 2,
     "metadata": {},
     "source": [
      "Simple data types"
     ]
    },
    {
     "cell_type": "markdown",
     "metadata": {},
     "source": [
      "Python (and computers in general) treats different types of data differently. Python has 6 main basic data types. Types are used to constrain to type of operation that can be performed on a value, for example it doesn't really make sense to try to divide a string.\n",
      "\n",
      "We will see some examples of these in use shortly, but for now let's see all of the basic types available in python.\n",
      "\n",
      "__Booleans__\n",
      "\n",
      "Boolean values represent truth or falsehood, as used in logical operations, for example. Not surprisingly, there are only two values, and in Python they are called <tt>True</tt> and <tt>False</tt>."
     ]
    },
    {
     "cell_type": "code",
     "collapsed": false,
     "input": [
      "a = True\n",
      "b = False\n",
      "print b"
     ],
     "language": "python",
     "metadata": {},
     "outputs": [
      {
       "output_type": "stream",
       "stream": "stdout",
       "text": [
        "False\n"
       ]
      }
     ],
     "prompt_number": 16
    },
    {
     "cell_type": "markdown",
     "metadata": {},
     "source": [
      "__Integers__\n",
      "\n",
      "Integers represent whole numbers, as you would use when counting items, and can be positive or negative."
     ]
    },
    {
     "cell_type": "code",
     "collapsed": false,
     "input": [
      "x = -7\n",
      "y = 123\n",
      "print x, y"
     ],
     "language": "python",
     "metadata": {},
     "outputs": [
      {
       "output_type": "stream",
       "stream": "stdout",
       "text": [
        "-7 123\n"
       ]
      }
     ],
     "prompt_number": 17
    },
    {
     "cell_type": "markdown",
     "metadata": {},
     "source": [
      "__Floating point numbers__\n",
      "\n",
      "Floating point numbers, often simply referred to as <tt>float</tt>s, are numbers expressed in the decimal system, i.e. 2.1, 999.998, -0.000004 etc. The value 2.0 would also be interpreted as a floating point number, but the value 2, without the decimal point will not; it will be interpreted as an integer."
     ]
    },
    {
     "cell_type": "code",
     "collapsed": false,
     "input": [
      "i = 3.14159\n",
      "j = -42.3\n",
      "print i * j"
     ],
     "language": "python",
     "metadata": {},
     "outputs": [
      {
       "output_type": "stream",
       "stream": "stdout",
       "text": [
        "-132.889257\n"
       ]
      }
     ],
     "prompt_number": 18
    },
    {
     "cell_type": "markdown",
     "metadata": {},
     "source": [
      "Floating point numbers can also carry an <tt>e</tt> suffix that states which power of ten they operate at."
     ]
    },
    {
     "cell_type": "code",
     "collapsed": false,
     "input": [
      "k = 1.5e3   # One thousand five hundred\n",
      "l = 3e-2    # Three hundreths\n",
      "print k\n",
      "print l"
     ],
     "language": "python",
     "metadata": {},
     "outputs": [
      {
       "output_type": "stream",
       "stream": "stdout",
       "text": [
        "1500.0\n",
        "0.03\n"
       ]
      }
     ],
     "prompt_number": 19
    },
    {
     "cell_type": "markdown",
     "metadata": {},
     "source": [
      "__Complex numbers__\n",
      "\n",
      "Complex numbers have separate real and imaginary parts which you would normally write in the form _a+bi_ (mathematical notation) or _a+bj_ (engineering notation). Python syntax follows the engineering style and the real and imaginary parts can themselves be integer or floating point:"
     ]
    },
    {
     "cell_type": "code",
     "collapsed": false,
     "input": [
      "m = 3+4j\n",
      "n = 1.2-5.8j\n",
      "print m + n"
     ],
     "language": "python",
     "metadata": {},
     "outputs": [
      {
       "output_type": "stream",
       "stream": "stdout",
       "text": [
        "(4.2-1.8j)\n"
       ]
      }
     ],
     "prompt_number": 20
    },
    {
     "cell_type": "markdown",
     "metadata": {},
     "source": [
      "__Strings__\n",
      "\n",
      "Strings represent text, i.e. \"strings\" of characters. They can be delimited by single quotes <tt>\u2018</tt> or double quotes <tt>\u201c</tt>, but you have to use the same delimiter at both ends. Unlike some programming languages, such as Perl, there is no difference between the two types of quote, although using one type does allow the other type to appear inside the string as a regular character.\n",
      "\n",
      "Normally a python statement ends at the end of the line, but if you want to type a string over several lines you can enclose it in triple quotation marks."
     ]
    },
    {
     "cell_type": "code",
     "collapsed": false,
     "input": [
      "s = \"ATGTCGTCTACAACACT\"\n",
      "t = 'Serine'\n",
      "u = \"It's a string with apostrophes\"\n",
      "v = \"\"\"A string that extends\n",
      "over multiple lines\"\"\"\n",
      "print v"
     ],
     "language": "python",
     "metadata": {},
     "outputs": [
      {
       "output_type": "stream",
       "stream": "stdout",
       "text": [
        "A string that extends\n",
        "over multiple lines\n"
       ]
      }
     ],
     "prompt_number": 21
    },
    {
     "cell_type": "markdown",
     "metadata": {},
     "source": [
      "__The <tt>None</tt> object__\n",
      "\n",
      "The None object is special built-in value which can be thought of as representing nothingness or that something is undefined. For example, it can be used to indicate that a variable exists, but has not yet been set to anything specific."
     ]
    },
    {
     "cell_type": "code",
     "collapsed": false,
     "input": [
      "z = None\n",
      "print z"
     ],
     "language": "python",
     "metadata": {},
     "outputs": [
      {
       "output_type": "stream",
       "stream": "stdout",
       "text": [
        "None\n"
       ]
      }
     ],
     "prompt_number": 22
    },
    {
     "cell_type": "markdown",
     "metadata": {},
     "source": [
      "You can check what type python thinks an expression is with the <tt>type</tt> function, which you can call with the name <tt>type</tt> immediately followed by parentheses enclosing the expression you want to check (either a variable or a value), e.g. <tt>type(3)</tt>. (This is the general form for calling functions, we'll see lots more examples of functions later...)"
     ]
    },
    {
     "cell_type": "code",
     "collapsed": false,
     "input": [
      "print \"a is\", type(a)\n",
      "print \"x is\", type(x)\n",
      "print \"i is\", type(i)\n",
      "print \"m is\", type(m)\n",
      "print \"s is\", type(s)\n",
      "print \"z is\", type(z)"
     ],
     "language": "python",
     "metadata": {},
     "outputs": [
      {
       "output_type": "stream",
       "stream": "stdout",
       "text": [
        "a is <type 'bool'>\n",
        "x is <type 'int'>\n",
        "i is <type 'float'>\n",
        "m is <type 'complex'>\n",
        "s is <type 'str'>\n",
        "z is <type 'NoneType'>\n"
       ]
      }
     ],
     "prompt_number": 23
    },
    {
     "cell_type": "heading",
     "level": 2,
     "metadata": {},
     "source": [
      "Arithmetic"
     ]
    },
    {
     "cell_type": "markdown",
     "metadata": {},
     "source": [
      "Python supports all the standard arithmetical operations on numerical types, and mostly uses a similar syntax to several other computer languages:"
     ]
    },
    {
     "cell_type": "code",
     "collapsed": false,
     "input": [
      "x + y # addition\n",
      "x - y # subtraction\n",
      "x * y # multiplication\n",
      "x / y # division\n",
      "x // y # floored division\n",
      "x % y # modulus - remainder of x/y\n",
      "x ** y # exponentiation\n",
      "pow(x, y) # another way to do exponentiation\n",
      "\n",
      "x = 3.14159\n",
      "y = 2.71828\n",
      "print ((x + 1) - y) * 4"
     ],
     "language": "python",
     "metadata": {},
     "outputs": [
      {
       "output_type": "stream",
       "stream": "stdout",
       "text": [
        "5.69324\n"
       ]
      }
     ],
     "prompt_number": 24
    },
    {
     "cell_type": "markdown",
     "metadata": {},
     "source": [
      "As usual in maths, division and multiplication have higher precedence than addition and subtraction, but arithmetic expressions can be grouped using parentheses to override the default precedence"
     ]
    },
    {
     "cell_type": "code",
     "collapsed": false,
     "input": [
      "print 13 * (2 + 5)  # 91\n",
      "print (13 * 2) + 5  # 31\n",
      "print 13 * 2 + 5    # 31 again, since \"*\" has higher precedence than \"+\""
     ],
     "language": "python",
     "metadata": {},
     "outputs": [
      {
       "output_type": "stream",
       "stream": "stdout",
       "text": [
        "91\n",
        "31\n",
        "31\n"
       ]
      }
     ],
     "prompt_number": 25
    },
    {
     "cell_type": "markdown",
     "metadata": {},
     "source": [
      "You can mix (some) types in arithmetic expressions and python will apply rules as to the type of the result\n"
     ]
    },
    {
     "cell_type": "code",
     "collapsed": false,
     "input": [
      "13 + 5.0"
     ],
     "language": "python",
     "metadata": {},
     "outputs": [
      {
       "output_type": "pyout",
       "prompt_number": 26,
       "text": [
        "18.0"
       ]
      }
     ],
     "prompt_number": 26
    },
    {
     "cell_type": "markdown",
     "metadata": {},
     "source": [
      "You can force python to use a particular type by _casting_ an expression explicitly, using helpfully named functions: <tt>float</tt>, <tt>int</tt>, <tt>str</tt> etc."
     ]
    },
    {
     "cell_type": "code",
     "collapsed": false,
     "input": [
      "float(3) + float(7)"
     ],
     "language": "python",
     "metadata": {},
     "outputs": [
      {
       "output_type": "pyout",
       "prompt_number": 27,
       "text": [
        "10.0"
       ]
      }
     ],
     "prompt_number": 27
    },
    {
     "cell_type": "code",
     "collapsed": false,
     "input": [
      "int(3.14159) + 1"
     ],
     "language": "python",
     "metadata": {},
     "outputs": [
      {
       "output_type": "pyout",
       "prompt_number": 28,
       "text": [
        "4"
       ]
      }
     ],
     "prompt_number": 28
    },
    {
     "cell_type": "markdown",
     "metadata": {},
     "source": [
      "Division in python sometimes trips up new (and experienced!) programmers. If you divide 2 integers you will only get an integer result. If you want a floating point results you should explicitly cast at least one of the arguments to a <tt>float</tt>."
     ]
    },
    {
     "cell_type": "code",
     "collapsed": false,
     "input": [
      "print \"3/4:\", 3/4\n",
      "print \"3.0/4:\", float(3)/4"
     ],
     "language": "python",
     "metadata": {},
     "outputs": [
      {
       "output_type": "stream",
       "stream": "stdout",
       "text": [
        "3/4: 0\n",
        "3.0/4: 0.75\n"
       ]
      }
     ],
     "prompt_number": 29
    },
    {
     "cell_type": "markdown",
     "metadata": {},
     "source": [
      "There are a few shortcut assignment statements to make modifying variables directly faster to type"
     ]
    },
    {
     "cell_type": "code",
     "collapsed": false,
     "input": [
      "x = 3\n",
      "x += 1 # equivalent to x = x + 1\n",
      "x"
     ],
     "language": "python",
     "metadata": {},
     "outputs": [
      {
       "output_type": "pyout",
       "prompt_number": 30,
       "text": [
        "4"
       ]
      }
     ],
     "prompt_number": 30
    },
    {
     "cell_type": "code",
     "collapsed": false,
     "input": [
      "y = 10\n",
      "y *= x\n",
      "y"
     ],
     "language": "python",
     "metadata": {},
     "outputs": [
      {
       "output_type": "pyout",
       "prompt_number": 31,
       "text": [
        "40"
       ]
      }
     ],
     "prompt_number": 31
    },
    {
     "cell_type": "markdown",
     "metadata": {},
     "source": [
      "These shortcut operators are available for all arithmetic and logical operators."
     ]
    },
    {
     "cell_type": "markdown",
     "metadata": {},
     "source": [
      "## Saving code in files\n",
      "\n",
      "As we mentioned earlier, you can also save python code in a file and then execute it later, we typically save python code in a file ending with the extension <tt>.py</tt>. The file, or _script_, can then be executed simply by supplying the name of the file as an argument to the <tt>python</tt> command in the terminal.\n",
      "\n",
      "You can use any text editor you know to edit your files, but the file should be saved as plain text, so programs like Microsoft Word aren't the best choice. Many editors will highlight python syntax for you which can help avoid syntax errors."
     ]
    },
    {
     "cell_type": "code",
     "collapsed": false,
     "input": [
      "%%bash \n",
      "cat scripts/hello.py"
     ],
     "language": "python",
     "metadata": {},
     "outputs": [
      {
       "output_type": "stream",
       "stream": "stdout",
       "text": [
        "print \"Hello world!\"\n"
       ]
      }
     ],
     "prompt_number": 32
    },
    {
     "cell_type": "code",
     "collapsed": false,
     "input": [
      "%%bash\n",
      "python scripts/hello.py"
     ],
     "language": "python",
     "metadata": {},
     "outputs": [
      {
       "output_type": "stream",
       "stream": "stdout",
       "text": [
        "Hello world!\n"
       ]
      }
     ],
     "prompt_number": 33
    },
    {
     "cell_type": "markdown",
     "metadata": {},
     "source": [
      "### Comments\n",
      "\n",
      "When you are writing a program it is often convenient to annotate your code to remind you what you were (intending) it to do, in programming these annotations are known as _comments_. You can include a comment in python by prefixing some text with a <tt>#</tt> character. All text following the <tt>#</tt> will then be ignored by the interpreter. You can start a comment on it's own line, or you can include at the end of a line of code.\n",
      "\n",
      "This is also often to useful to temporarily remove some code from a script without deleting it. This is known as _commenting out_ some code"
     ]
    },
    {
     "cell_type": "code",
     "collapsed": false,
     "input": [
      "print \"Hi\" # this will be ignored\n",
      "# as will this\n",
      "print \"Bye\"\n",
      "# print \"Never seen\""
     ],
     "language": "python",
     "metadata": {},
     "outputs": [
      {
       "output_type": "stream",
       "stream": "stdout",
       "text": [
        "Hi\n",
        "Bye\n"
       ]
      }
     ],
     "prompt_number": 34
    },
    {
     "cell_type": "markdown",
     "metadata": {},
     "source": [
      "__Exercises__\n",
      "\n",
      "In the interpreter:\n",
      "\n",
      "1. Create a variable and assign it the string value of your first name, assign your age to another variable (you are free to lie!), print out a message saying how old you are\n",
      "2. Use the addition operator to add 10 to your age and print out a message saying how aol you will be in 10 years time\n",
      "3. Assign numerical values to 2 variables, calculate the mean of these two variables and store the result in another variable. Print out the result to the screen\n",
      "\n",
      "In a file:\n",
      "\n",
      "1. Look up the <a href=\"http://en.wikipedia.org/wiki/DNA_codon_table\">genetic code</a>. Create a number of string variables that store possible DNA encodings of serine (S), leucine (L), tyrosine (Y) and cysteine (C). Where multiple codings are available, just pick one for now.\n",
      "2. Create a variable containing a possible DNA sequence for the protein sequence SYLYC. (Note that the addition operator <tt>+</tt> allows you to concatenate strings together.) Print the DNA sequence.\n",
      "3. Include a comment in your file to remind you the purpose of the script"
     ]
    },
    {
     "cell_type": "heading",
     "level": 2,
     "metadata": {},
     "source": [
      "Collections"
     ]
    },
    {
     "cell_type": "markdown",
     "metadata": {},
     "source": [
      "As well as the basic data types we introduced above, very commonly you will want to store and operate on collections of values, and python has several _data structures_ that you can use to do this. The general idea is that you can place several items into a single collection and then refer to that collection as a whole. Which one you will use will depend on what problem you are trying to solve.\n",
      "\n",
      "### Tuples\n",
      "\n",
      "- Can contain any number of items\n",
      "- Can contain different types of items\n",
      "- __Cannot__ be altered once created (they are immutable)\n",
      "- Items have a defined order\n",
      "\n",
      "Tuples are created by using round brackets around the items the contain, with commas seperating the individual elements."
     ]
    },
    {
     "cell_type": "code",
     "collapsed": false,
     "input": [
      "a = (123, 54, 92) # tuple of 4 integers\n",
      "b = () # empty tuple\n",
      "c = (\"Ala\",) # tuple of a single string (note the trailing \",\")\n",
      "d = (2, 3, False, \"Arg\", None) # a tuple of mixed types\n",
      "\n",
      "print d"
     ],
     "language": "python",
     "metadata": {},
     "outputs": [
      {
       "output_type": "stream",
       "stream": "stdout",
       "text": [
        "(2, 3, False, 'Arg', None)\n"
       ]
      }
     ],
     "prompt_number": 35
    },
    {
     "cell_type": "markdown",
     "metadata": {},
     "source": [
      "You can of course use variables in tuples and other data structures"
     ]
    },
    {
     "cell_type": "code",
     "collapsed": false,
     "input": [
      "x = 1.2\n",
      "y = -0.3\n",
      "z = 0.9\n",
      "t = (x, y, z)\n",
      "\n",
      "print t"
     ],
     "language": "python",
     "metadata": {},
     "outputs": [
      {
       "output_type": "stream",
       "stream": "stdout",
       "text": [
        "(1.2, -0.3, 0.9)\n"
       ]
      }
     ],
     "prompt_number": 36
    },
    {
     "cell_type": "markdown",
     "metadata": {},
     "source": [
      "Tuples can be _packed_ and _unpacked_ with a convenient syntax. The number of variables used to unpack the tuple must match the number of elements in the tuple."
     ]
    },
    {
     "cell_type": "code",
     "collapsed": false,
     "input": [
      "t = 2, 3, 4 # tuple packing\n",
      "print t\n",
      "x, y, z = t # tuple unpacking\n",
      "print z"
     ],
     "language": "python",
     "metadata": {},
     "outputs": [
      {
       "output_type": "stream",
       "stream": "stdout",
       "text": [
        "(2, 3, 4)\n",
        "4\n"
       ]
      }
     ],
     "prompt_number": 37
    },
    {
     "cell_type": "markdown",
     "metadata": {},
     "source": [
      "Tuples _cannot_ be altered once they have been constructed"
     ]
    },
    {
     "cell_type": "code",
     "collapsed": false,
     "input": [
      "t[1] = 4"
     ],
     "language": "python",
     "metadata": {},
     "outputs": [
      {
       "ename": "TypeError",
       "evalue": "'tuple' object does not support item assignment",
       "output_type": "pyerr",
       "traceback": [
        "\u001b[0;31m---------------------------------------------------------------------------\u001b[0m\n\u001b[0;31mTypeError\u001b[0m                                 Traceback (most recent call last)",
        "\u001b[0;32m<ipython-input-38-141c76cb54a2>\u001b[0m in \u001b[0;36m<module>\u001b[0;34m()\u001b[0m\n\u001b[0;32m----> 1\u001b[0;31m \u001b[0mt\u001b[0m\u001b[0;34m[\u001b[0m\u001b[0;36m1\u001b[0m\u001b[0;34m]\u001b[0m \u001b[0;34m=\u001b[0m \u001b[0;36m4\u001b[0m\u001b[0;34m\u001b[0m\u001b[0m\n\u001b[0m",
        "\u001b[0;31mTypeError\u001b[0m: 'tuple' object does not support item assignment"
       ]
      }
     ],
     "prompt_number": 38
    },
    {
     "cell_type": "markdown",
     "metadata": {},
     "source": [
      "### Lists\n",
      "\n",
      "- Can contain any number of items\n",
      "- Can contain different types of items\n",
      "- __Can__ be altered once created (they are mutable)\n",
      "- Items have a particular order\n",
      "\n",
      "Lists are created with square brackets around their items:"
     ]
    },
    {
     "cell_type": "code",
     "collapsed": false,
     "input": [
      "a = [1, 3, 9]\n",
      "b = [\"ATG\"]\n",
      "c = []\n",
      "\n",
      "print b"
     ],
     "language": "python",
     "metadata": {},
     "outputs": []
    },
    {
     "cell_type": "markdown",
     "metadata": {},
     "source": [
      "Lists and tuples can contain other list and tuples, or any other type of collection:"
     ]
    },
    {
     "cell_type": "code",
     "collapsed": false,
     "input": [
      "matrix = [[1, 0], [0, 2]]\n",
      "print matrix"
     ],
     "language": "python",
     "metadata": {},
     "outputs": []
    },
    {
     "cell_type": "markdown",
     "metadata": {},
     "source": [
      "You can convert between tuples and lists with the <tt>tuple</tt> and <tt>list</tt> functions. Note that these create a new collection with the same items, and leave the original unaffected."
     ]
    },
    {
     "cell_type": "code",
     "collapsed": false,
     "input": [
      "a = (1, 4, 9, 16)     # A tuple of numbers\n",
      "b = ['G','C','A','T'] # A list of characters\n",
      "\n",
      "l = list(a)   # Make a list based on a tuple \n",
      "print l\n",
      "\n",
      "t = tuple(b)  # Make a list based on a list\n",
      "print t"
     ],
     "language": "python",
     "metadata": {},
     "outputs": []
    },
    {
     "cell_type": "markdown",
     "metadata": {},
     "source": [
      "### Manipulating tuples and lists\n",
      "\n",
      "Once your data is in a list or tuple, python supports a number of ways you can access elements of the list and manipulate the list in useful ways, such as sorting the data.\n",
      "\n",
      "Tuples and lists can generally be used in very similar ways."
     ]
    },
    {
     "cell_type": "code",
     "collapsed": false,
     "input": [
      "t = (123, 54, 92, 87, 33)\n",
      "x = [123, 54, 92, 87, 33]"
     ],
     "language": "python",
     "metadata": {},
     "outputs": []
    },
    {
     "cell_type": "markdown",
     "metadata": {},
     "source": [
      "_Index access_\n",
      "\n",
      "You can access individual elements of the collection using their _index_, note that the first element is at index 0. Negative indices count backwards from the end."
     ]
    },
    {
     "cell_type": "code",
     "collapsed": false,
     "input": [
      "print t[0]\n",
      "print t[2]\n",
      "print x[-1]"
     ],
     "language": "python",
     "metadata": {},
     "outputs": []
    },
    {
     "cell_type": "markdown",
     "metadata": {},
     "source": [
      "__Slices__\n",
      "\n",
      "You can also access a range of items, known as _slices_, from inside lists and tuples using a colon `:` to indicate the beginning and end of the slice inside the square brackets. Note that the slice notation `[a:b]` includes positions from `a` up to _but not including_ `b`."
     ]
    },
    {
     "cell_type": "code",
     "collapsed": false,
     "input": [
      "print t[1:3]\n",
      "print x[2:]\n",
      "print x[:-1]"
     ],
     "language": "python",
     "metadata": {},
     "outputs": []
    },
    {
     "cell_type": "markdown",
     "metadata": {},
     "source": [
      "You can check if a value is in a tuple or list with the <tt>in</tt> operator, and you can negate this with <tt>not</tt>"
     ]
    },
    {
     "cell_type": "code",
     "collapsed": false,
     "input": [
      "print 123 in x\n",
      "print 234 in t\n",
      "print 999 not in x"
     ],
     "language": "python",
     "metadata": {},
     "outputs": []
    },
    {
     "cell_type": "markdown",
     "metadata": {},
     "source": [
      "You can get the length of a list or tuple with the <tt>len</tt> function, and you can count the number of particular elements contained in a list with the <tt>.count</tt> method on a string."
     ]
    },
    {
     "cell_type": "code",
     "collapsed": false,
     "input": [
      "print \"length of t:\", len(t)\n",
      "print \"number of 33s in x:\", x.count(33)"
     ],
     "language": "python",
     "metadata": {},
     "outputs": []
    },
    {
     "cell_type": "markdown",
     "metadata": {},
     "source": [
      "You can alter lists in place, but not tuples"
     ]
    },
    {
     "cell_type": "code",
     "collapsed": false,
     "input": [
      "print x\n",
      "x[2] = 33\n",
      "print x"
     ],
     "language": "python",
     "metadata": {},
     "outputs": []
    },
    {
     "cell_type": "markdown",
     "metadata": {},
     "source": [
      "Remember that tuples cannot be modified once they have been created."
     ]
    },
    {
     "cell_type": "code",
     "collapsed": false,
     "input": [
      "t[2] = 33"
     ],
     "language": "python",
     "metadata": {},
     "outputs": []
    },
    {
     "cell_type": "markdown",
     "metadata": {},
     "source": [
      "You can add elements to the end of a list with <tt>append</tt>"
     ]
    },
    {
     "cell_type": "code",
     "collapsed": false,
     "input": [
      "x.append(101)\n",
      "print x"
     ],
     "language": "python",
     "metadata": {},
     "outputs": [
      {
       "ename": "AttributeError",
       "evalue": "'int' object has no attribute 'append'",
       "output_type": "pyerr",
       "traceback": [
        "\u001b[0;31m---------------------------------------------------------------------------\u001b[0m\n\u001b[0;31mAttributeError\u001b[0m                            Traceback (most recent call last)",
        "\u001b[0;32m<ipython-input-39-ebd4e4ff9b24>\u001b[0m in \u001b[0;36m<module>\u001b[0;34m()\u001b[0m\n\u001b[0;32m----> 1\u001b[0;31m \u001b[0mx\u001b[0m\u001b[0;34m.\u001b[0m\u001b[0mappend\u001b[0m\u001b[0;34m(\u001b[0m\u001b[0;36m101\u001b[0m\u001b[0;34m)\u001b[0m\u001b[0;34m\u001b[0m\u001b[0m\n\u001b[0m\u001b[1;32m      2\u001b[0m \u001b[0;32mprint\u001b[0m \u001b[0mx\u001b[0m\u001b[0;34m\u001b[0m\u001b[0m\n",
        "\u001b[0;31mAttributeError\u001b[0m: 'int' object has no attribute 'append'"
       ]
      }
     ],
     "prompt_number": 39
    },
    {
     "cell_type": "markdown",
     "metadata": {},
     "source": [
      "or insert values at arbitrary positions with <tt>insert</tt>, but you have to supply the desired position as well as the new value"
     ]
    },
    {
     "cell_type": "code",
     "collapsed": false,
     "input": [
      "x.insert(3, 1111)\n",
      "print x"
     ],
     "language": "python",
     "metadata": {},
     "outputs": [
      {
       "ename": "AttributeError",
       "evalue": "'int' object has no attribute 'insert'",
       "output_type": "pyerr",
       "traceback": [
        "\u001b[0;31m---------------------------------------------------------------------------\u001b[0m\n\u001b[0;31mAttributeError\u001b[0m                            Traceback (most recent call last)",
        "\u001b[0;32m<ipython-input-40-5f8efd686825>\u001b[0m in \u001b[0;36m<module>\u001b[0;34m()\u001b[0m\n\u001b[0;32m----> 1\u001b[0;31m \u001b[0mx\u001b[0m\u001b[0;34m.\u001b[0m\u001b[0minsert\u001b[0m\u001b[0;34m(\u001b[0m\u001b[0;36m3\u001b[0m\u001b[0;34m,\u001b[0m \u001b[0;36m1111\u001b[0m\u001b[0;34m)\u001b[0m\u001b[0;34m\u001b[0m\u001b[0m\n\u001b[0m\u001b[1;32m      2\u001b[0m \u001b[0;32mprint\u001b[0m \u001b[0mx\u001b[0m\u001b[0;34m\u001b[0m\u001b[0m\n",
        "\u001b[0;31mAttributeError\u001b[0m: 'int' object has no attribute 'insert'"
       ]
      }
     ],
     "prompt_number": 40
    },
    {
     "cell_type": "markdown",
     "metadata": {},
     "source": [
      "You can remove values with <tt>remove</tt>"
     ]
    },
    {
     "cell_type": "code",
     "collapsed": false,
     "input": [
      "x.remove(123)\n",
      "print x"
     ],
     "language": "python",
     "metadata": {},
     "outputs": [
      {
       "ename": "AttributeError",
       "evalue": "'int' object has no attribute 'remove'",
       "output_type": "pyerr",
       "traceback": [
        "\u001b[0;31m---------------------------------------------------------------------------\u001b[0m\n\u001b[0;31mAttributeError\u001b[0m                            Traceback (most recent call last)",
        "\u001b[0;32m<ipython-input-41-4c25f8e46126>\u001b[0m in \u001b[0;36m<module>\u001b[0;34m()\u001b[0m\n\u001b[0;32m----> 1\u001b[0;31m \u001b[0mx\u001b[0m\u001b[0;34m.\u001b[0m\u001b[0mremove\u001b[0m\u001b[0;34m(\u001b[0m\u001b[0;36m123\u001b[0m\u001b[0;34m)\u001b[0m\u001b[0;34m\u001b[0m\u001b[0m\n\u001b[0m\u001b[1;32m      2\u001b[0m \u001b[0;32mprint\u001b[0m \u001b[0mx\u001b[0m\u001b[0;34m\u001b[0m\u001b[0m\n",
        "\u001b[0;31mAttributeError\u001b[0m: 'int' object has no attribute 'remove'"
       ]
      }
     ],
     "prompt_number": 41
    },
    {
     "cell_type": "markdown",
     "metadata": {},
     "source": [
      "and delete values by index with <tt>del</tt>"
     ]
    },
    {
     "cell_type": "code",
     "collapsed": false,
     "input": [
      "print x\n",
      "del x[0]\n",
      "print x"
     ],
     "language": "python",
     "metadata": {},
     "outputs": [
      {
       "ename": "TypeError",
       "evalue": "'int' object does not support item deletion",
       "output_type": "pyerr",
       "traceback": [
        "\u001b[0;31m---------------------------------------------------------------------------\u001b[0m\n\u001b[0;31mTypeError\u001b[0m                                 Traceback (most recent call last)",
        "\u001b[0;32m<ipython-input-42-17bb5173a58b>\u001b[0m in \u001b[0;36m<module>\u001b[0;34m()\u001b[0m\n\u001b[1;32m      1\u001b[0m \u001b[0;32mprint\u001b[0m \u001b[0mx\u001b[0m\u001b[0;34m\u001b[0m\u001b[0m\n\u001b[0;32m----> 2\u001b[0;31m \u001b[0;32mdel\u001b[0m \u001b[0mx\u001b[0m\u001b[0;34m[\u001b[0m\u001b[0;36m0\u001b[0m\u001b[0;34m]\u001b[0m\u001b[0;34m\u001b[0m\u001b[0m\n\u001b[0m\u001b[1;32m      3\u001b[0m \u001b[0;32mprint\u001b[0m \u001b[0mx\u001b[0m\u001b[0;34m\u001b[0m\u001b[0m\n",
        "\u001b[0;31mTypeError\u001b[0m: 'int' object does not support item deletion"
       ]
      },
      {
       "output_type": "stream",
       "stream": "stdout",
       "text": [
        "2\n"
       ]
      }
     ],
     "prompt_number": 42
    },
    {
     "cell_type": "markdown",
     "metadata": {},
     "source": [
      "You can also extract the final element of a list with <tt>pop</tt>, thus the list is shortened. Note that without a specified index pop() removes and gives back the last item."
     ]
    },
    {
     "cell_type": "code",
     "collapsed": false,
     "input": [
      "print x\n",
      "y = x.pop()\n",
      "print y, x"
     ],
     "language": "python",
     "metadata": {},
     "outputs": [
      {
       "ename": "AttributeError",
       "evalue": "'int' object has no attribute 'pop'",
       "output_type": "pyerr",
       "traceback": [
        "\u001b[0;31m---------------------------------------------------------------------------\u001b[0m\n\u001b[0;31mAttributeError\u001b[0m                            Traceback (most recent call last)",
        "\u001b[0;32m<ipython-input-43-2c281800e342>\u001b[0m in \u001b[0;36m<module>\u001b[0;34m()\u001b[0m\n\u001b[1;32m      1\u001b[0m \u001b[0;32mprint\u001b[0m \u001b[0mx\u001b[0m\u001b[0;34m\u001b[0m\u001b[0m\n\u001b[0;32m----> 2\u001b[0;31m \u001b[0my\u001b[0m \u001b[0;34m=\u001b[0m \u001b[0mx\u001b[0m\u001b[0;34m.\u001b[0m\u001b[0mpop\u001b[0m\u001b[0;34m(\u001b[0m\u001b[0;34m)\u001b[0m\u001b[0;34m\u001b[0m\u001b[0m\n\u001b[0m\u001b[1;32m      3\u001b[0m \u001b[0;32mprint\u001b[0m \u001b[0my\u001b[0m\u001b[0;34m,\u001b[0m \u001b[0mx\u001b[0m\u001b[0;34m\u001b[0m\u001b[0m\n",
        "\u001b[0;31mAttributeError\u001b[0m: 'int' object has no attribute 'pop'"
       ]
      },
      {
       "output_type": "stream",
       "stream": "stdout",
       "text": [
        "2\n"
       ]
      }
     ],
     "prompt_number": 43
    },
    {
     "cell_type": "markdown",
     "metadata": {},
     "source": [
      "It's often useful to be able to combine arrays together, which can be done with <tt>extend</tt> (as <tt>append</tt> would add the whole list as a single element in the list)"
     ]
    },
    {
     "cell_type": "code",
     "collapsed": false,
     "input": [
      "a = [1,2,3]\n",
      "b = [4,5,6]\n",
      "a.extend(b)\n",
      "print a"
     ],
     "language": "python",
     "metadata": {},
     "outputs": [
      {
       "output_type": "stream",
       "stream": "stdout",
       "text": [
        "[1, 2, 3, 4, 5, 6]\n"
       ]
      }
     ],
     "prompt_number": 44
    },
    {
     "cell_type": "markdown",
     "metadata": {},
     "source": [
      "The plus symbol <tt>+</tt> is shorthand for the extend operation when applied to lists:"
     ]
    },
    {
     "cell_type": "code",
     "collapsed": false,
     "input": [
      "a = [1,2,3]\n",
      "b = [4,5,6]\n",
      "a = a + b\n",
      "print a"
     ],
     "language": "python",
     "metadata": {},
     "outputs": [
      {
       "output_type": "stream",
       "stream": "stdout",
       "text": [
        "[1, 2, 3, 4, 5, 6]\n"
       ]
      }
     ],
     "prompt_number": 45
    },
    {
     "cell_type": "markdown",
     "metadata": {},
     "source": [
      "Slice syntax can be used on the left hand side of an assignment operation to assign subregions of a list"
     ]
    },
    {
     "cell_type": "code",
     "collapsed": false,
     "input": [
      "a[1:3] = [9, 9, 9]\n",
      "print a"
     ],
     "language": "python",
     "metadata": {},
     "outputs": [
      {
       "output_type": "stream",
       "stream": "stdout",
       "text": [
        "[1, 9, 9, 9, 4, 5, 6]\n"
       ]
      }
     ],
     "prompt_number": 46
    },
    {
     "cell_type": "markdown",
     "metadata": {},
     "source": [
      "You can change the order of elements in a list"
     ]
    },
    {
     "cell_type": "code",
     "collapsed": false,
     "input": [
      "a = [1, 3, 5, 4, 2]\n",
      "a.reverse()\n",
      "print a\n",
      "a.sort()\n",
      "print a"
     ],
     "language": "python",
     "metadata": {},
     "outputs": [
      {
       "output_type": "stream",
       "stream": "stdout",
       "text": [
        "[2, 4, 5, 3, 1]\n",
        "[1, 2, 3, 4, 5]\n"
       ]
      }
     ],
     "prompt_number": 47
    },
    {
     "cell_type": "markdown",
     "metadata": {},
     "source": [
      "Note that both of these change the list, if you want a sorted copy of the list while leaving the original untouched, use <tt>sorted</tt>"
     ]
    },
    {
     "cell_type": "code",
     "collapsed": false,
     "input": [
      "a = [2, 5, 7, 1]\n",
      "b = sorted(a)\n",
      "print a\n",
      "print b"
     ],
     "language": "python",
     "metadata": {},
     "outputs": [
      {
       "output_type": "stream",
       "stream": "stdout",
       "text": [
        "[2, 5, 7, 1]\n",
        "[1, 2, 5, 7]\n"
       ]
      }
     ],
     "prompt_number": 48
    },
    {
     "cell_type": "markdown",
     "metadata": {},
     "source": [
      "To join the elements of a list together into a string (assuming that the contents of the list are themselves strings), you can use the <tt>.join()</tt> method on the string you want to use as a seperator. If you don't want any seperator use the _empty string_ <tt>\"\"</tt>. "
     ]
    },
    {
     "cell_type": "code",
     "collapsed": false,
     "input": [
      "bases = ['A', 'T', 'G']\n",
      "seq = \"-\".join(bases)\n",
      "print seq"
     ],
     "language": "python",
     "metadata": {},
     "outputs": [
      {
       "output_type": "stream",
       "stream": "stdout",
       "text": [
        "A-T-G\n"
       ]
      }
     ],
     "prompt_number": 49
    },
    {
     "cell_type": "markdown",
     "metadata": {},
     "source": [
      "__Exercises__\n",
      "\n",
      "In a file:\n",
      "\n",
      "1. Create a list for the protein sequence CLYSY where the elements of the list are DNA codon sequences. Use the codon variables you defined in the last exercise.\n",
      "2. Print the DNA sequence of the protein to the screen, with spaces between each codon.\n",
      "3. Print the DNA sequence of the last amino acid in the protein by accessing this element from the list.\n",
      "4. Create an two more variables containing the DNA sequence for a stop codon and a start codon, replace the first element of the list with the start codon and append the stop codon to the end of the list. Print out the resulting DNA sequence."
     ]
    },
    {
     "cell_type": "markdown",
     "metadata": {},
     "source": [
      "## String manipulations\n",
      "\n",
      "Strings are a lot like tuples of characters, and individual characters and substrings can be accessed and manipulated using similar operations we introduced above.\n"
     ]
    },
    {
     "cell_type": "code",
     "collapsed": false,
     "input": [
      "text = \"ATGTCATTT\"\n",
      "print text[0]\n",
      "print text[-2]\n",
      "print text[0:6]\n",
      "print \"ATG\" in text\n",
      "print \"TGA\" in text\n",
      "print len(text)"
     ],
     "language": "python",
     "metadata": {},
     "outputs": [
      {
       "output_type": "stream",
       "stream": "stdout",
       "text": [
        "A\n",
        "T\n",
        "ATGTCA\n",
        "True\n",
        "False\n",
        "9\n"
       ]
      }
     ],
     "prompt_number": 50
    },
    {
     "cell_type": "markdown",
     "metadata": {},
     "source": [
      "Just as with tuples, trying to assign a value to an element of a string results in an error"
     ]
    },
    {
     "cell_type": "code",
     "collapsed": false,
     "input": [
      "text[0:2] = \"CCC\" "
     ],
     "language": "python",
     "metadata": {},
     "outputs": [
      {
       "ename": "TypeError",
       "evalue": "'str' object does not support item assignment",
       "output_type": "pyerr",
       "traceback": [
        "\u001b[0;31m---------------------------------------------------------------------------\u001b[0m\n\u001b[0;31mTypeError\u001b[0m                                 Traceback (most recent call last)",
        "\u001b[0;32m<ipython-input-51-d794635236a5>\u001b[0m in \u001b[0;36m<module>\u001b[0;34m()\u001b[0m\n\u001b[0;32m----> 1\u001b[0;31m \u001b[0mtext\u001b[0m\u001b[0;34m[\u001b[0m\u001b[0;36m0\u001b[0m\u001b[0;34m:\u001b[0m\u001b[0;36m2\u001b[0m\u001b[0;34m]\u001b[0m \u001b[0;34m=\u001b[0m \u001b[0;34m\"CCC\"\u001b[0m\u001b[0;34m\u001b[0m\u001b[0m\n\u001b[0m",
        "\u001b[0;31mTypeError\u001b[0m: 'str' object does not support item assignment"
       ]
      }
     ],
     "prompt_number": 51
    },
    {
     "cell_type": "markdown",
     "metadata": {},
     "source": [
      "Python provides a number of useful functions that let you manipulate strings\n",
      "\n",
      "The <tt>in</tt> operator lets you check if a substring is contained within a larger string, but it does not tell you where the substring is located. This is often useful to know and python provides the <tt>.find</tt> method which returns the index of the first occurrence of the search string, and the <tt>.rfind</tt> method to start searching from the end of the string.\n",
      "\n",
      "If the search string is not found in the string both these methods return -1."
     ]
    },
    {
     "cell_type": "code",
     "collapsed": false,
     "input": [
      "dna = \"ATGTCACCGTTT\"\n",
      "index = dna.find(\"TCA\")\n",
      "print \"TCA is at position:\", index\n",
      "index = dna.rfind('C')\n",
      "print \"The last Cytosine is at position:\", index\n",
      "print \"Position of a stop codon:\", dna.find(\"TGA\")"
     ],
     "language": "python",
     "metadata": {},
     "outputs": [
      {
       "output_type": "stream",
       "stream": "stdout",
       "text": [
        "TCA is at position: 3\n",
        "The last Cytosine is at position: 7\n",
        "Position of a stop codon: -1\n"
       ]
      }
     ],
     "prompt_number": 52
    },
    {
     "cell_type": "markdown",
     "metadata": {},
     "source": [
      "When we are reading text from files etc. (which we will see later on), often there is unwanted whitespace at the start or end of the string. We can remove leading whitespace with the <tt>.lstrip</tt> method, trailing whitespace with <tt>.rstrip</tt>, and whitespace from both ends with <tt>.strip</tt>.\n",
      "\n",
      "All of these methods return a copy of the changes string, so if you want to replace the original you can assign the result of the method call to the original variable."
     ]
    },
    {
     "cell_type": "code",
     "collapsed": false,
     "input": [
      "s = \"    Chromosome Start End    \"\n",
      "print s\n",
      "print s.lstrip()\n",
      "print s\n",
      "s = s.strip()\n",
      "print s"
     ],
     "language": "python",
     "metadata": {},
     "outputs": [
      {
       "output_type": "stream",
       "stream": "stdout",
       "text": [
        "    Chromosome Start End    \n",
        "Chromosome Start End    \n",
        "    Chromosome Start End    \n",
        "Chromosome Start End\n"
       ]
      }
     ],
     "prompt_number": 53
    },
    {
     "cell_type": "markdown",
     "metadata": {},
     "source": [
      "You can split a string into a list of substrings using the <tt>.split</tt> method, supplying the delimiter as an argument to the method. If you don't supply any delimiter the method will split the string on whitespace by default (which is very often what you want!)\n",
      "\n",
      "To split a string into its component characters you can simply _cast_ the string to a list "
     ]
    },
    {
     "cell_type": "code",
     "collapsed": false,
     "input": [
      "seq = \"ATG TCA CCG GGC\"\n",
      "codons = seq.split(\" \")\n",
      "print codons\n",
      "bases = list(seq)\n",
      "print bases"
     ],
     "language": "python",
     "metadata": {},
     "outputs": [
      {
       "output_type": "stream",
       "stream": "stdout",
       "text": [
        "['ATG', 'TCA', 'CCG', 'GGC']\n",
        "['A', 'T', 'G', ' ', 'T', 'C', 'A', ' ', 'C', 'C', 'G', ' ', 'G', 'G', 'C']\n"
       ]
      }
     ],
     "prompt_number": 54
    },
    {
     "cell_type": "markdown",
     "metadata": {},
     "source": [
      "<tt>.split</tt> is the counterpart to the <tt>.join</tt> method we saw earlier that lets you join the elements of a list into a string:"
     ]
    },
    {
     "cell_type": "code",
     "collapsed": false,
     "input": [
      "print \"|\".join(codons)"
     ],
     "language": "python",
     "metadata": {},
     "outputs": [
      {
       "output_type": "stream",
       "stream": "stdout",
       "text": [
        "ATG|TCA|CCG|GGC\n"
       ]
      }
     ],
     "prompt_number": 55
    },
    {
     "cell_type": "markdown",
     "metadata": {},
     "source": [
      "We also saw earlier that the <tt>+</tt> operator lets you concatenate strings together into a larger string.\n",
      "\n",
      "Note that this operator only works on variables of the same type. If you want to concatenate a string with an integer (or some other type), first you have to cast the integer to a string with the <tt>str</tt> function."
     ]
    },
    {
     "cell_type": "code",
     "collapsed": false,
     "input": [
      "s = \"chr\"\n",
      "chroms = [1,2,3]\n",
      "print s + chroms[0]"
     ],
     "language": "python",
     "metadata": {},
     "outputs": [
      {
       "ename": "TypeError",
       "evalue": "cannot concatenate 'str' and 'int' objects",
       "output_type": "pyerr",
       "traceback": [
        "\u001b[0;31m---------------------------------------------------------------------------\u001b[0m\n\u001b[0;31mTypeError\u001b[0m                                 Traceback (most recent call last)",
        "\u001b[0;32m<ipython-input-56-b44ba1d0ce4d>\u001b[0m in \u001b[0;36m<module>\u001b[0;34m()\u001b[0m\n\u001b[1;32m      1\u001b[0m \u001b[0ms\u001b[0m \u001b[0;34m=\u001b[0m \u001b[0;34m\"chr\"\u001b[0m\u001b[0;34m\u001b[0m\u001b[0m\n\u001b[1;32m      2\u001b[0m \u001b[0mchroms\u001b[0m \u001b[0;34m=\u001b[0m \u001b[0;34m[\u001b[0m\u001b[0;36m1\u001b[0m\u001b[0;34m,\u001b[0m\u001b[0;36m2\u001b[0m\u001b[0;34m,\u001b[0m\u001b[0;36m3\u001b[0m\u001b[0;34m]\u001b[0m\u001b[0;34m\u001b[0m\u001b[0m\n\u001b[0;32m----> 3\u001b[0;31m \u001b[0;32mprint\u001b[0m \u001b[0ms\u001b[0m \u001b[0;34m+\u001b[0m \u001b[0mchroms\u001b[0m\u001b[0;34m[\u001b[0m\u001b[0;36m0\u001b[0m\u001b[0;34m]\u001b[0m\u001b[0;34m\u001b[0m\u001b[0m\n\u001b[0m",
        "\u001b[0;31mTypeError\u001b[0m: cannot concatenate 'str' and 'int' objects"
       ]
      }
     ],
     "prompt_number": 56
    },
    {
     "cell_type": "markdown",
     "metadata": {},
     "source": [
      "### Format strings\n",
      "\n",
      "Constructing more complex strings from a mix of variables of different types can be cumbersome, and sometimes you want more control over how values are interpolated into a string. Python provides a powerful mechanism for formatting strings using format specifiers inside a string which start with a <tt>%</tt> character. There are lots of these specifiers, but here are 3 useful ones:\n",
      "\n",
      "- <tt>%d</tt>: decimal integer\n",
      "- <tt>%f</tt>: floating point number\n",
      "- <tt>%s</tt>: string\n",
      "\n",
      "You can specify the number of decimal points to use in a floating point number with, e.g. <tt>%.2f</tt> to use 2 decimal places.\n",
      "\n",
      "Once you have built your format string, you can insert the values into it with the <tt>%</tt> operator followed by a tuple of the values you want to interpolate. \n",
      "\n",
      "Format strings are particularly useful if you want to print out a message in a similar format multiple times, as you can save the format string in a variable and then use it with different variables."
     ]
    },
    {
     "cell_type": "code",
     "collapsed": false,
     "input": [
      "name = \"Bob\"\n",
      "age = 23\n",
      "format_string = \"%s is %d years old\"\n",
      "s = format_string % (name, age)\n",
      "print s\n",
      "\n",
      "name = \"Alice\"\n",
      "age = 45\n",
      "s = format_string % (name, age)\n",
      "print s"
     ],
     "language": "python",
     "metadata": {},
     "outputs": [
      {
       "output_type": "stream",
       "stream": "stdout",
       "text": [
        "Bob is 23 years old\n",
        "Alice is 45 years old\n"
       ]
      }
     ],
     "prompt_number": 57
    },
    {
     "cell_type": "markdown",
     "metadata": {},
     "source": [
      "You can specify the number of decimal points to use in a floating point number with, e.g. %.2f to use 2 decimal places."
     ]
    },
    {
     "cell_type": "code",
     "collapsed": false,
     "input": [
      "weight = 84.3472623\n",
      "print \"%s weighs %.2f kgs\" % (name, weight)"
     ],
     "language": "python",
     "metadata": {},
     "outputs": [
      {
       "output_type": "stream",
       "stream": "stdout",
       "text": [
        "Alice weighs 84.35 kgs\n"
       ]
      }
     ],
     "prompt_number": 58
    },
    {
     "cell_type": "markdown",
     "metadata": {},
     "source": [
      "__Exercises__\n",
      "\n",
      "1. Create a string variable with your full name in it, with your first and last name (and any middle names) seperated by a space. Split the string into a list, and print out your surname.\n",
      "2. Check if your surname contains the letter \"E\", and print out the position of this letter in the string. Try a few other letters.\n",
      "3. Use a format string to print our your first name and the length of your first name\n"
     ]
    },
    {
     "cell_type": "markdown",
     "metadata": {},
     "source": [
      "## Sets\n",
      "\n",
      "- Sets contain unique elements, i.e. no repeats are allowed\n",
      "- The elements in a set do not have an order\n",
      "- Sets cannot contain elements which can be internally modified (e.g. lists and dictionaries)"
     ]
    },
    {
     "cell_type": "code",
     "collapsed": false,
     "input": [
      "l = [1,2,3,2,3] # list of 5 values\n",
      "s = set(l) # set of 3 unique values\n",
      "print s\n",
      "e = set() # empty set\n",
      "print e"
     ],
     "language": "python",
     "metadata": {},
     "outputs": [
      {
       "output_type": "stream",
       "stream": "stdout",
       "text": [
        "set([1, 2, 3])\n",
        "set([])\n"
       ]
      }
     ],
     "prompt_number": 59
    },
    {
     "cell_type": "markdown",
     "metadata": {},
     "source": [
      "Sets are very similar to lists and tuples and you can use many of the same operators and functions, except they are inherently unordered, so they don't have an index, and can only contain _unique_ values, so adding a value already in the set will have no effect"
     ]
    },
    {
     "cell_type": "code",
     "collapsed": false,
     "input": [
      "print s\n",
      "print \"number in set:\", len(s)\n",
      "s.add(4)\n",
      "print s\n",
      "s.add(3)"
     ],
     "language": "python",
     "metadata": {},
     "outputs": [
      {
       "output_type": "stream",
       "stream": "stdout",
       "text": [
        "set([1, 2, 3])\n",
        "number in set: 3\n",
        "set([1, 2, 3, 4])\n"
       ]
      }
     ],
     "prompt_number": 60
    },
    {
     "cell_type": "markdown",
     "metadata": {},
     "source": [
      "You can remove specific elements from the set, and you can <tt>pop</tt> off a value, but the value selected will be arbitrary"
     ]
    },
    {
     "cell_type": "code",
     "collapsed": false,
     "input": [
      "s.remove(3)\n",
      "print s\n",
      "e = s.pop()\n",
      "print s"
     ],
     "language": "python",
     "metadata": {},
     "outputs": [
      {
       "output_type": "stream",
       "stream": "stdout",
       "text": [
        "set([1, 2, 4])\n",
        "set([2, 4])\n"
       ]
      }
     ],
     "prompt_number": 61
    },
    {
     "cell_type": "markdown",
     "metadata": {},
     "source": [
      "You can do all the expected logical operations on sets, such as taking the union or intersection of 2 sets with the <tt>|</tt> _or_ and <tt>&</tt> _and_ operators "
     ]
    },
    {
     "cell_type": "code",
     "collapsed": false,
     "input": [
      "s1 = set([2, 4, 6, 8, 10])\n",
      "s2 = set([4,5,6,7])\n",
      "\n",
      "print \"Union:\", s1 | s2\n",
      "print \"Intersection:\", s1 & s2"
     ],
     "language": "python",
     "metadata": {},
     "outputs": [
      {
       "output_type": "stream",
       "stream": "stdout",
       "text": [
        "Union: set([2, 4, 5, 6, 7, 8, 10])\n",
        "Intersection: set([4, 6])\n"
       ]
      }
     ],
     "prompt_number": 62
    },
    {
     "cell_type": "markdown",
     "metadata": {},
     "source": [
      "### Exercises\n",
      "\n",
      "1. Given the protein sequence \"MPISEPTFFEIF\", split the sequence into its component amino acid codes and use a set to establish the unique aminos acids in the protein."
     ]
    },
    {
     "cell_type": "markdown",
     "metadata": {},
     "source": [
      "## Dictionaries\n",
      "\n",
      "Lists are useful in many contexts, but often we have some data that has no inherent order and that we want to access by some useful name rather than an index. For example, as a result of some experiment we may have a set of genes and corresponding expression values. We could put the expression values in a list, but then we'd have to remember which index in the list corresponded to which gene and this would quickly get complicated.\n",
      "\n",
      "For these situations a _dictionary_ is a very useful data structure.\n",
      "\n",
      "Dictionaries:\n",
      "\n",
      "- Contain a mapping of keys to values (like a word and its corresponding definition in a dictionary)\n",
      "- The keys of a dictionary are unique, i.e. they cannot repeat\n",
      "- The values of a dictionary can be of any data type\n",
      "- The keys of a dictionary cannot be an internally modifiable type (e.g. lists, but you can use tuples)\n",
      "- Dictionaries do not store data in any particular order"
     ]
    },
    {
     "cell_type": "code",
     "collapsed": false,
     "input": [
      "dna = {\"A\": \"Adenine\", \"C\": \"Cytosine\", \"G\": \"Guanine\", \"T\": \"Thymine\"}\n",
      "print dna"
     ],
     "language": "python",
     "metadata": {},
     "outputs": [
      {
       "output_type": "stream",
       "stream": "stdout",
       "text": [
        "{'A': 'Adenine', 'C': 'Cytosine', 'T': 'Thymine', 'G': 'Guanine'}\n"
       ]
      }
     ],
     "prompt_number": 63
    },
    {
     "cell_type": "markdown",
     "metadata": {},
     "source": [
      "You can access values in a dictionary using the key inside square brackets"
     ]
    },
    {
     "cell_type": "code",
     "collapsed": false,
     "input": [
      "print \"A represents\", dna[\"A\"]\n",
      "print \"G represents\", dna[\"G\"]\n"
     ],
     "language": "python",
     "metadata": {},
     "outputs": [
      {
       "output_type": "stream",
       "stream": "stdout",
       "text": [
        "A represents Adenine\n",
        "G represents Guanine\n"
       ]
      }
     ],
     "prompt_number": 64
    },
    {
     "cell_type": "markdown",
     "metadata": {},
     "source": [
      "An error is triggered if a key is absent from the dictionary:"
     ]
    },
    {
     "cell_type": "code",
     "collapsed": false,
     "input": [
      "print \"What about N?\", dna[\"N\"]"
     ],
     "language": "python",
     "metadata": {},
     "outputs": [
      {
       "ename": "KeyError",
       "evalue": "'N'",
       "output_type": "pyerr",
       "traceback": [
        "\u001b[0;31m---------------------------------------------------------------------------\u001b[0m\n\u001b[0;31mKeyError\u001b[0m                                  Traceback (most recent call last)",
        "\u001b[0;32m<ipython-input-65-4f0ea8d0dd39>\u001b[0m in \u001b[0;36m<module>\u001b[0;34m()\u001b[0m\n\u001b[0;32m----> 1\u001b[0;31m \u001b[0;32mprint\u001b[0m \u001b[0;34m\"What about N?\"\u001b[0m\u001b[0;34m,\u001b[0m \u001b[0mdna\u001b[0m\u001b[0;34m[\u001b[0m\u001b[0;34m\"N\"\u001b[0m\u001b[0;34m]\u001b[0m\u001b[0;34m\u001b[0m\u001b[0m\n\u001b[0m",
        "\u001b[0;31mKeyError\u001b[0m: 'N'"
       ]
      },
      {
       "output_type": "stream",
       "stream": "stdout",
       "text": [
        "What about N?"
       ]
      }
     ],
     "prompt_number": 65
    },
    {
     "cell_type": "markdown",
     "metadata": {},
     "source": [
      "You can access values safely with the <tt>get</tt> method, which gives back <tt>None</tt> if the key is absent and you can also supply a default values"
     ]
    },
    {
     "cell_type": "code",
     "collapsed": false,
     "input": [
      "print \"What about N?\", dna.get(\"N\")\n",
      "print \"With a default value:\", dna.get(\"N\", \"unknown\")"
     ],
     "language": "python",
     "metadata": {},
     "outputs": [
      {
       "output_type": "stream",
       "stream": "stdout",
       "text": [
        " What about N? None\n",
        "With a default value: unknown\n"
       ]
      }
     ],
     "prompt_number": 66
    },
    {
     "cell_type": "markdown",
     "metadata": {},
     "source": [
      "You can check if a key is in a dictionary with the <tt>in</tt> operator, and you can negate this with <tt>not</tt>"
     ]
    },
    {
     "cell_type": "code",
     "collapsed": false,
     "input": [
      "\"T\" in dna"
     ],
     "language": "python",
     "metadata": {},
     "outputs": [
      {
       "output_type": "pyout",
       "prompt_number": 67,
       "text": [
        "True"
       ]
      }
     ],
     "prompt_number": 67
    },
    {
     "cell_type": "code",
     "collapsed": false,
     "input": [
      "\"Y\" not in dna"
     ],
     "language": "python",
     "metadata": {},
     "outputs": [
      {
       "output_type": "pyout",
       "prompt_number": 68,
       "text": [
        "True"
       ]
      }
     ],
     "prompt_number": 68
    },
    {
     "cell_type": "markdown",
     "metadata": {},
     "source": [
      "The <tt>len()</tt> function gives back the number of (key, value) pairs in the dictionary:"
     ]
    },
    {
     "cell_type": "code",
     "collapsed": false,
     "input": [
      "print len(dna)"
     ],
     "language": "python",
     "metadata": {},
     "outputs": [
      {
       "output_type": "stream",
       "stream": "stdout",
       "text": [
        "4\n"
       ]
      }
     ],
     "prompt_number": 69
    },
    {
     "cell_type": "markdown",
     "metadata": {},
     "source": [
      "You can introduce new entries in the dictionary by assigning a value with a new key:"
     ]
    },
    {
     "cell_type": "code",
     "collapsed": false,
     "input": [
      "dna['Y'] = 'Pyrimidine'\n",
      "print dna"
     ],
     "language": "python",
     "metadata": {},
     "outputs": [
      {
       "output_type": "stream",
       "stream": "stdout",
       "text": [
        "{'A': 'Adenine', 'Y': 'Pyrimidine', 'C': 'Cytosine', 'T': 'Thymine', 'G': 'Guanine'}\n"
       ]
      }
     ],
     "prompt_number": 70
    },
    {
     "cell_type": "markdown",
     "metadata": {},
     "source": [
      "You can change the value for an existing key by reassigning it:"
     ]
    },
    {
     "cell_type": "code",
     "collapsed": false,
     "input": [
      "dna['Y'] = 'Cytosine or Thymine'\n",
      "print dna"
     ],
     "language": "python",
     "metadata": {},
     "outputs": [
      {
       "output_type": "stream",
       "stream": "stdout",
       "text": [
        "{'A': 'Adenine', 'Y': 'Cytosine or Thymine', 'C': 'Cytosine', 'T': 'Thymine', 'G': 'Guanine'}\n"
       ]
      }
     ],
     "prompt_number": 71
    },
    {
     "cell_type": "markdown",
     "metadata": {},
     "source": [
      "You can delete entries from the dictionary:"
     ]
    },
    {
     "cell_type": "code",
     "collapsed": false,
     "input": [
      "del dna['Y']\n",
      "print dna"
     ],
     "language": "python",
     "metadata": {},
     "outputs": [
      {
       "output_type": "stream",
       "stream": "stdout",
       "text": [
        "{'A': 'Adenine', 'C': 'Cytosine', 'T': 'Thymine', 'G': 'Guanine'}\n"
       ]
      }
     ],
     "prompt_number": 72
    },
    {
     "cell_type": "markdown",
     "metadata": {},
     "source": [
      "You can get a list of all the keys (in arbitrary order) using the inbuilt <tt>.keys()</tt> function"
     ]
    },
    {
     "cell_type": "code",
     "collapsed": false,
     "input": [
      "k = dna.keys()\n",
      "print k"
     ],
     "language": "python",
     "metadata": {},
     "outputs": [
      {
       "output_type": "stream",
       "stream": "stdout",
       "text": [
        "['A', 'C', 'T', 'G']\n"
       ]
      }
     ],
     "prompt_number": 73
    },
    {
     "cell_type": "markdown",
     "metadata": {},
     "source": [
      "And equivalently get a list of the values:"
     ]
    },
    {
     "cell_type": "code",
     "collapsed": false,
     "input": [
      "v = dna.values()\n",
      "print v"
     ],
     "language": "python",
     "metadata": {},
     "outputs": [
      {
       "output_type": "stream",
       "stream": "stdout",
       "text": [
        "['Adenine', 'Cytosine', 'Thymine', 'Guanine']\n"
       ]
      }
     ],
     "prompt_number": 74
    },
    {
     "cell_type": "markdown",
     "metadata": {},
     "source": [
      "And a list of tuples containing (key, value) pairs:"
     ]
    },
    {
     "cell_type": "code",
     "collapsed": false,
     "input": [
      "i = dna.items()\n",
      "print i"
     ],
     "language": "python",
     "metadata": {},
     "outputs": [
      {
       "output_type": "stream",
       "stream": "stdout",
       "text": [
        "[('A', 'Adenine'), ('C', 'Cytosine'), ('T', 'Thymine'), ('G', 'Guanine')]\n"
       ]
      }
     ],
     "prompt_number": 75
    },
    {
     "cell_type": "markdown",
     "metadata": {},
     "source": [
      "## Exercises\n",
      "\n",
      "1. Print out the names of the amino acids that would be produced by the DNA sequence \"GTT GCA CCA CAA CCG\". Split this string into the individual codons and then use a dictionary to map between codon sequences and the amino acids they encode.\n",
      "2. Why couldn't we build a dictionary where the keys are names of amino acids and the values are the DNA codons?\n"
     ]
    }
   ],
   "metadata": {}
  }
 ]
}