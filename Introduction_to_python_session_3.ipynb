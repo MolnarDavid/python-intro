{
 "metadata": {
  "name": ""
 },
 "nbformat": 3,
 "nbformat_minor": 0,
 "worksheets": [
  {
   "cells": [
    {
     "cell_type": "heading",
     "level": 2,
     "metadata": {},
     "source": [
      "Function basics"
     ]
    },
    {
     "cell_type": "markdown",
     "metadata": {},
     "source": [
      "We have already seen a number of functions built in to python that let us do useful things to strings, collections and numbers etc. For example `len()` which is passed some kind of sequence object and returns the length of the sequence.\n",
      "\n",
      "This is the general form of a function; it takes some input _arguments_ and returns some output based on the supplied arguments.\n",
      "\n",
      "The arguments to a function, if any, are supplied in parentheses and the result of the function _call_ is the result of evaluating the function.\n"
     ]
    },
    {
     "cell_type": "code",
     "collapsed": false,
     "input": [
      "x = abs(-3.0)\n",
      "print x\n",
      "\n",
      "l = len(\"ACGGTGTCAA\")\n",
      "print l"
     ],
     "language": "python",
     "metadata": {},
     "outputs": [
      {
       "output_type": "stream",
       "stream": "stdout",
       "text": [
        "3.0\n",
        "10\n"
       ]
      }
     ],
     "prompt_number": 1
    },
    {
     "cell_type": "markdown",
     "metadata": {},
     "source": [
      "As well as using python's built in functions, you can write your own. Functions are a nice way to encapsulate some code that you want to reuse elsewhere in your program, rather than repeating the same bit of code multiple times. They also provide a way to name some coherent block of code and allow you to structure a complex program."
     ]
    },
    {
     "cell_type": "heading",
     "level": 2,
     "metadata": {},
     "source": [
      "Function definition syntax"
     ]
    },
    {
     "cell_type": "markdown",
     "metadata": {},
     "source": [
      "Functions are defined in python using the `def` keyword followed by the name you want to give your function. If your function takes some arguments then you can name these in parentheses after the function name. If your function does not take any arguments you still need some empty parentheses.\n",
      "\n",
      "You return the result of your function using the (aptly named) `return` statement. You can only return a single value from your function, but if you want to return multiple items you can wrap these up in a list or tuple etc..\n",
      "\n",
      "Let's define a very simple function that takes a single number as an argument and returns the square of this number."
     ]
    },
    {
     "cell_type": "code",
     "collapsed": false,
     "input": [
      "def square(number):\n",
      "    squared = number * number\n",
      "    return squared"
     ],
     "language": "python",
     "metadata": {},
     "outputs": [],
     "prompt_number": 2
    },
    {
     "cell_type": "markdown",
     "metadata": {},
     "source": [
      "This defines the function ``square`` and can be used from now on anywhere in your program, by calling the function supplying an argument in parentheses after the function name."
     ]
    },
    {
     "cell_type": "code",
     "collapsed": false,
     "input": [
      "print square(4)\n",
      "print square(1.2e-3)"
     ],
     "language": "python",
     "metadata": {},
     "outputs": [
      {
       "output_type": "stream",
       "stream": "stdout",
       "text": [
        "16\n",
        "1.44e-06\n"
       ]
      }
     ],
     "prompt_number": 3
    },
    {
     "cell_type": "markdown",
     "metadata": {},
     "source": [
      "Functions can be arbitrarily long and can peform very complex operations. However, to make a function reusable, it is often better to assign it a single responsibility and a descriptive name."
     ]
    },
    {
     "cell_type": "code",
     "collapsed": false,
     "input": [
      "def calcDistance(vec1, vec2):\n",
      "    \n",
      "    assert len( vec1 ) == len( vec2 ) # check dimensions\n",
      "    from math import sqrt # import square-root function\n",
      "    \n",
      "    d2 = 0\n",
      "    \n",
      "    for i in range( len( vec1 ) ):\n",
      "        delta = vec1[i] - vec2[i]\n",
      "        d2 += delta * delta\n",
      "        \n",
      "    dist = sqrt( d2 )\n",
      "    return dist"
     ],
     "language": "python",
     "metadata": {},
     "outputs": [],
     "prompt_number": 4
    },
    {
     "cell_type": "markdown",
     "metadata": {},
     "source": [
      "Let's experiment a little with our function."
     ]
    },
    {
     "cell_type": "code",
     "collapsed": false,
     "input": [
      "w1 = ( 23.1, 17.8, -5.6 )\n",
      "w2 = ( 8.4, 15.9, 7.7 )\n",
      "calcDistance( w1, w2 )"
     ],
     "language": "python",
     "metadata": {},
     "outputs": [
      {
       "metadata": {},
       "output_type": "pyout",
       "prompt_number": 5,
       "text": [
        "19.914567532336726"
       ]
      }
     ],
     "prompt_number": 5
    },
    {
     "cell_type": "markdown",
     "metadata": {},
     "source": [
      "Note that the function is general and handles any two vectors (irrespective of their representation) as long as their dimensions are compatible:"
     ]
    },
    {
     "cell_type": "code",
     "collapsed": false,
     "input": [
      "calcDistance( ( 1, 2 ), ( 3, 4 ) ) # dimension: 2"
     ],
     "language": "python",
     "metadata": {},
     "outputs": [
      {
       "metadata": {},
       "output_type": "pyout",
       "prompt_number": 6,
       "text": [
        "2.8284271247461903"
       ]
      }
     ],
     "prompt_number": 6
    },
    {
     "cell_type": "code",
     "collapsed": false,
     "input": [
      "calcDistance( [ 1, 2 ], [ 3, 4 ] ) # vectors represented as lists"
     ],
     "language": "python",
     "metadata": {},
     "outputs": [
      {
       "metadata": {},
       "output_type": "pyout",
       "prompt_number": 7,
       "text": [
        "2.8284271247461903"
       ]
      }
     ],
     "prompt_number": 7
    },
    {
     "cell_type": "code",
     "collapsed": false,
     "input": [
      "calcDistance( ( 1, 2 ), [ 3, 4 ] ) # mixed representation"
     ],
     "language": "python",
     "metadata": {},
     "outputs": [
      {
       "metadata": {},
       "output_type": "pyout",
       "prompt_number": 8,
       "text": [
        "2.8284271247461903"
       ]
      }
     ],
     "prompt_number": 8
    },
    {
     "cell_type": "heading",
     "level": 3,
     "metadata": {},
     "source": [
      "Example"
     ]
    },
    {
     "cell_type": "markdown",
     "metadata": {},
     "source": [
      "Write a program that takes a sequence from the command line and prints the number of guanines."
     ]
    },
    {
     "cell_type": "code",
     "collapsed": false,
     "input": [
      "%%bash\n",
      "cat scripts/example_3a.py"
     ],
     "language": "python",
     "metadata": {},
     "outputs": [
      {
       "output_type": "stream",
       "stream": "stdout",
       "text": [
        "def count_and_print_gs(sequence):\n",
        "\n",
        "  print sequence.upper().count( \"G\" )\n",
        "\n",
        "\n",
        "import sys\n",
        "\n",
        "if len( sys.argv ) != 2:\n",
        "  print \"Usage: %s sequence\" % sys.argv[0]\n",
        "  sys.exit( 1 )\n",
        "\n",
        "count_and_print_gs( sequence=sys.argv[1] )\n",
        "\n",
        "\n"
       ]
      }
     ],
     "prompt_number": 9
    },
    {
     "cell_type": "code",
     "collapsed": false,
     "input": [
      "%%bash\n",
      "python scripts/example_3a.py GCATTG"
     ],
     "language": "python",
     "metadata": {},
     "outputs": [
      {
       "output_type": "stream",
       "stream": "stdout",
       "text": [
        "2\n"
       ]
      }
     ],
     "prompt_number": 10
    },
    {
     "cell_type": "heading",
     "level": 3,
     "metadata": {},
     "source": [
      "Exercises"
     ]
    },
    {
     "cell_type": "markdown",
     "metadata": {},
     "source": [
      "1. Write a function that takes 2 numerical arguments and returns their mean, you should check that the arguments are really numbers. Test your function on some examples.\n",
      "2. Write another function that takes a list of numbers and returns the mean of all the numbers in the list.\n",
      "3. Write a function that takes a single DNA sequence as an argument and estimates the molecular weight of this sequence. Test your function using sequences passed on the command line. The following table gives the weight of each (single-stranded) nucleotide in g/mol:\n",
      "\n",
      "<table>\n",
      "    <tr><th>DNA Residue</th><th>Weight</th></tr>\n",
      "    <tr><td>A</td><td>331</td></tr>\n",
      "    <tr><td>C</td><td>307</td></tr>\n",
      "    <tr><td>G</td><td>347</td></tr>\n",
      "    <tr><td>T</td><td>306</td></tr>\n",
      "</table>\n",
      "\n",
      "4. (Extra, if you have time) If the sequence passed in above contains `N` bases, use the mean weight of the other bases as the weight."
     ]
    },
    {
     "cell_type": "heading",
     "level": 2,
     "metadata": {},
     "source": [
      "Function arguments"
     ]
    },
    {
     "cell_type": "markdown",
     "metadata": {},
     "source": [
      "The arguments we have passed to functions so far have all been _mandatory_, if we do not supply them or if supply the wrong number of arguments python will throw a exception:"
     ]
    },
    {
     "cell_type": "code",
     "collapsed": false,
     "input": [
      "square(2)"
     ],
     "language": "python",
     "metadata": {},
     "outputs": [
      {
       "metadata": {},
       "output_type": "pyout",
       "prompt_number": 11,
       "text": [
        "4"
       ]
      }
     ],
     "prompt_number": 11
    },
    {
     "cell_type": "markdown",
     "metadata": {},
     "source": [
      "Mandatory arguments are assumed to come in the same order as the arguments in the function definition, but you can also opt to specify the arguments using the argument names as _keywords_, supplying the values corresponding to each keyword with a `=` sign."
     ]
    },
    {
     "cell_type": "code",
     "collapsed": false,
     "input": [
      "square(number=3)"
     ],
     "language": "python",
     "metadata": {},
     "outputs": [
      {
       "metadata": {},
       "output_type": "pyout",
       "prompt_number": 12,
       "text": [
        "9"
       ]
      }
     ],
     "prompt_number": 12
    },
    {
     "cell_type": "code",
     "collapsed": false,
     "input": [
      "def repeat(seq, n):\n",
      "    result = ''\n",
      "    for i in range(0,n):\n",
      "        result += seq\n",
      "    return result\n",
      "\n",
      "print repeat(\"CTA\", 3)\n",
      "print repeat(n=4, seq=\"GTT\")"
     ],
     "language": "python",
     "metadata": {},
     "outputs": [
      {
       "output_type": "stream",
       "stream": "stdout",
       "text": [
        "CTACTACTA\n",
        "GTTGTTGTTGTT\n"
       ]
      }
     ],
     "prompt_number": 13
    },
    {
     "cell_type": "markdown",
     "metadata": {},
     "source": [
      "Unnamed (positional) arguments must come before named arguments, even if they look to be in the right order."
     ]
    },
    {
     "cell_type": "code",
     "collapsed": false,
     "input": [
      "print repeat(seq=\"CTA\", 3)"
     ],
     "language": "python",
     "metadata": {},
     "outputs": [
      {
       "ename": "SyntaxError",
       "evalue": "non-keyword arg after keyword arg (<ipython-input-14-b2afb97ed475>, line 1)",
       "output_type": "pyerr",
       "traceback": [
        "\u001b[0;36m  File \u001b[0;32m\"<ipython-input-14-b2afb97ed475>\"\u001b[0;36m, line \u001b[0;32m1\u001b[0m\n\u001b[0;31m    print repeat(seq=\"CTA\", 3)\u001b[0m\n\u001b[0;31mSyntaxError\u001b[0m\u001b[0;31m:\u001b[0m non-keyword arg after keyword arg\n"
       ]
      }
     ],
     "prompt_number": 14
    },
    {
     "cell_type": "markdown",
     "metadata": {},
     "source": [
      "Sometimes it is useful to give some arguments a default value that the caller can override, but which will be used if the caller does not supply a value for this argument. We can do this by assigning some value to the named argument with the `=` operator in the function definition."
     ]
    },
    {
     "cell_type": "code",
     "collapsed": false,
     "input": [
      "def runSimulation(nsteps=1000):\n",
      "    print \"Running simulation for\", nsteps, \"steps\"\n",
      "\n",
      "runSimulation(500)\n",
      "runSimulation()"
     ],
     "language": "python",
     "metadata": {},
     "outputs": [
      {
       "output_type": "stream",
       "stream": "stdout",
       "text": [
        "Running simulation for 500 steps\n",
        "Running simulation for 1000 steps\n"
       ]
      }
     ],
     "prompt_number": 15
    },
    {
     "cell_type": "markdown",
     "metadata": {},
     "source": [
      "**CAVEAT**: default arguments are defined once and keep their state between calls. This can be a problem for *mutable* objects:"
     ]
    },
    {
     "cell_type": "code",
     "collapsed": false,
     "input": [
      "def myFunction(parameters=[]):\n",
      "    parameters.append( 100 )\n",
      "    print parameters\n",
      "    \n",
      "myFunction()\n",
      "myFunction()\n",
      "myFunction()"
     ],
     "language": "python",
     "metadata": {},
     "outputs": [
      {
       "output_type": "stream",
       "stream": "stdout",
       "text": [
        "[100]\n",
        "[100, 100]\n",
        "[100, 100, 100]\n"
       ]
      }
     ],
     "prompt_number": 16
    },
    {
     "cell_type": "markdown",
     "metadata": {},
     "source": [
      "One can either create a \"new\" default every time a function is run:"
     ]
    },
    {
     "cell_type": "code",
     "collapsed": false,
     "input": [
      "def myFunction(parameters=None):\n",
      "    \n",
      "    if parameters is None:\n",
      "        parameters = []\n",
      "        \n",
      "    parameters.append( 100 )\n",
      "    print parameters\n",
      "    \n",
      "myFunction()\n",
      "myFunction()"
     ],
     "language": "python",
     "metadata": {},
     "outputs": [
      {
       "output_type": "stream",
       "stream": "stdout",
       "text": [
        "[100]\n",
        "[100]\n"
       ]
      }
     ],
     "prompt_number": 17
    },
    {
     "cell_type": "markdown",
     "metadata": {},
     "source": [
      "... or avoid modifying *mutable* default arguments:"
     ]
    },
    {
     "cell_type": "code",
     "collapsed": false,
     "input": [
      "def myFunction(parameters=[]):\n",
      "    print parameters + [ 100 ]\n",
      "    \n",
      "myFunction()\n",
      "myFunction()"
     ],
     "language": "python",
     "metadata": {},
     "outputs": [
      {
       "output_type": "stream",
       "stream": "stdout",
       "text": [
        "[100]\n",
        "[100]\n"
       ]
      }
     ],
     "prompt_number": 18
    },
    {
     "cell_type": "markdown",
     "metadata": {},
     "source": [
      "Arrange function arguments so that *mandatory* arguments come first:"
     ]
    },
    {
     "cell_type": "code",
     "collapsed": false,
     "input": [
      "def runSimulation(initialTemperature, nsteps=1000):\n",
      "    print \"Running simulation starting at %s K and doing %s steps\" % ( initialTemperature, nsteps )\n",
      "    \n",
      "runSimulation(300, 500)\n",
      "runSimulation(300)"
     ],
     "language": "python",
     "metadata": {},
     "outputs": [
      {
       "output_type": "stream",
       "stream": "stdout",
       "text": [
        "Running simulation starting at 300 K and doing 500 steps\n",
        "Running simulation starting at 300 K and doing 1000 steps\n"
       ]
      }
     ],
     "prompt_number": 19
    },
    {
     "cell_type": "code",
     "collapsed": false,
     "input": [
      "def badFunction(nsteps=1000, initialTemperature):\n",
      "    pass\n"
     ],
     "language": "python",
     "metadata": {},
     "outputs": [
      {
       "ename": "SyntaxError",
       "evalue": "non-default argument follows default argument (<ipython-input-20-1ff769d497d6>, line 1)",
       "output_type": "pyerr",
       "traceback": [
        "\u001b[0;36m  File \u001b[0;32m\"<ipython-input-20-1ff769d497d6>\"\u001b[0;36m, line \u001b[0;32m1\u001b[0m\n\u001b[0;31m    def badFunction(nsteps=1000, initialTemperature):\u001b[0m\n\u001b[0;31mSyntaxError\u001b[0m\u001b[0;31m:\u001b[0m non-default argument follows default argument\n"
       ]
      }
     ],
     "prompt_number": 20
    },
    {
     "cell_type": "markdown",
     "metadata": {},
     "source": [
      "As before, no positional argument can appear after a keyword argument, and all required arguments must still be provided."
     ]
    },
    {
     "cell_type": "code",
     "collapsed": false,
     "input": [
      "runSimulation( nsteps=100, 300 )"
     ],
     "language": "python",
     "metadata": {},
     "outputs": [
      {
       "ename": "SyntaxError",
       "evalue": "non-keyword arg after keyword arg (<ipython-input-21-f43e155e156f>, line 1)",
       "output_type": "pyerr",
       "traceback": [
        "\u001b[0;36m  File \u001b[0;32m\"<ipython-input-21-f43e155e156f>\"\u001b[0;36m, line \u001b[0;32m1\u001b[0m\n\u001b[0;31m    runSimulation( nsteps=100, 300 )\u001b[0m\n\u001b[0;31mSyntaxError\u001b[0m\u001b[0;31m:\u001b[0m non-keyword arg after keyword arg\n"
       ]
      }
     ],
     "prompt_number": 21
    },
    {
     "cell_type": "code",
     "collapsed": false,
     "input": [
      "runSimulation( nsteps=100 )"
     ],
     "language": "python",
     "metadata": {},
     "outputs": [
      {
       "ename": "TypeError",
       "evalue": "runSimulation() takes at least 1 argument (1 given)",
       "output_type": "pyerr",
       "traceback": [
        "\u001b[0;31m---------------------------------------------------------------------------\u001b[0m\n\u001b[0;31mTypeError\u001b[0m                                 Traceback (most recent call last)",
        "\u001b[0;32m<ipython-input-22-5948b85cfe2f>\u001b[0m in \u001b[0;36m<module>\u001b[0;34m()\u001b[0m\n\u001b[0;32m----> 1\u001b[0;31m \u001b[0mrunSimulation\u001b[0m\u001b[0;34m(\u001b[0m \u001b[0mnsteps\u001b[0m\u001b[0;34m=\u001b[0m\u001b[0;36m100\u001b[0m \u001b[0;34m)\u001b[0m\u001b[0;34m\u001b[0m\u001b[0m\n\u001b[0m",
        "\u001b[0;31mTypeError\u001b[0m: runSimulation() takes at least 1 argument (1 given)"
       ]
      }
     ],
     "prompt_number": 22
    },
    {
     "cell_type": "markdown",
     "metadata": {},
     "source": [
      "Keyword names must naturally match to those declared:"
     ]
    },
    {
     "cell_type": "code",
     "collapsed": false,
     "input": [
      "runSimulation( numSteps=100 )"
     ],
     "language": "python",
     "metadata": {},
     "outputs": []
    },
    {
     "cell_type": "markdown",
     "metadata": {},
     "source": [
      "__Exercises__\n",
      "\n",
      "1. Extend your solution to the previous exercise estimating the weight of a DNA sequence so that it can also calculate the weight of an RNA sequence, use an optional argument to specify the molecule type, but default to DNA. The weights of RNA residues are:\n",
      "\n",
      "<table>\n",
      "    <tr><th>RNA Residue</th><th>Weight</th></tr>\n",
      "    <tr><td>A</td><td>347</td></tr>\n",
      "    <tr><td>C</td><td>323</td></tr>\n",
      "    <tr><td>G</td><td>363</td></tr>\n",
      "    <tr><td>U</td><td>324</td></tr>\n",
      "</table>\n",
      "\n"
     ]
    },
    {
     "cell_type": "heading",
     "level": 2,
     "metadata": {},
     "source": [
      "Functions as values"
     ]
    },
    {
     "cell_type": "markdown",
     "metadata": {},
     "source": [
      "Functions in python are values just like strings and numbers. If you want to refer to a function without calling it, just use the name of the function without parentheses.\n",
      "\n",
      "In this way, functions can be assigned to variables and passed as arguments to other functions. returned from functions etc."
     ]
    },
    {
     "cell_type": "code",
     "collapsed": false,
     "input": [
      "myabs = abs # 'myabs' points to 'abs'\n",
      "print \"Assessed through myabs:\", myabs( -3.0 )\n",
      "\n",
      "abs = square # reassign 'abs' to point to 'square'\n",
      "print \"After reassignment:\", abs( -3.0 )\n",
      "\n",
      "abs = myabs # reinstate original 'abs'\n",
      "print \"After reinstatement:\", abs( -3.0 )"
     ],
     "language": "python",
     "metadata": {},
     "outputs": [
      {
       "output_type": "stream",
       "stream": "stdout",
       "text": [
        "Assessed through myabs: 3.0\n",
        "After reassignment: 9.0\n",
        "After reinstatement: 3.0\n"
       ]
      }
     ],
     "prompt_number": 23
    },
    {
     "cell_type": "markdown",
     "metadata": {},
     "source": [
      "__Nested Functions__\n",
      "\n",
      "You can define functions in any scope in python, and so you can define a function within another function.\n",
      "\n",
      "As an example, in this case we return the function we have defined internally. This technique is called *currying* or *partial application*. It converts a given function to one with a reduced argument list."
     ]
    },
    {
     "cell_type": "code",
     "collapsed": false,
     "input": [
      "def exponential(base):\n",
      "    def fixed_base(exponent):\n",
      "        return pow( base, exponent )\n",
      "    \n",
      "    return fixed_base\n",
      "\n",
      "base2 = exponential(2)\n",
      "base2(3)"
     ],
     "language": "python",
     "metadata": {},
     "outputs": [
      {
       "metadata": {},
       "output_type": "pyout",
       "prompt_number": 24,
       "text": [
        "8"
       ]
      }
     ],
     "prompt_number": 24
    },
    {
     "cell_type": "heading",
     "level": 2,
     "metadata": {},
     "source": [
      "Anonymous functions"
     ]
    },
    {
     "cell_type": "markdown",
     "metadata": {},
     "source": [
      "In some circumstances, it is convenient to be able to define a short function without giving it a definition name, though usually it will be assigned to a variable. These are introduced with the `lambda` keyword (after the Lisp programming language). \n",
      "\n",
      "The syntax is `lambda` followed by a list of required arguments seperated by commas. The body of the function is defined after a colon `:` and can only contain a single expression which, when evaluated, will be the return value from the function. Anonymous functions cannot contain loops or conditions (except the special one line `if` statement and list comprehensions)."
     ]
    },
    {
     "cell_type": "code",
     "collapsed": false,
     "input": [
      "double = lambda x: x ** 2\n",
      "double( 3 )"
     ],
     "language": "python",
     "metadata": {},
     "outputs": [
      {
       "metadata": {},
       "output_type": "pyout",
       "prompt_number": 25,
       "text": [
        "9"
       ]
      }
     ],
     "prompt_number": 25
    },
    {
     "cell_type": "markdown",
     "metadata": {},
     "source": [
      "Anonymous functions are never necessary, you can always define an equivalent normal named function, but they can be useful when a function has limited use or is very short. A prime example is sorting:"
     ]
    },
    {
     "cell_type": "code",
     "collapsed": false,
     "input": [
      "values = [ \"africa\", \"Australia\", \"EUROPE\"  ]\n",
      "values.sort()\n",
      "print values"
     ],
     "language": "python",
     "metadata": {},
     "outputs": [
      {
       "output_type": "stream",
       "stream": "stdout",
       "text": [
        "['Australia', 'EUROPE', 'africa']\n"
       ]
      }
     ],
     "prompt_number": 26
    },
    {
     "cell_type": "markdown",
     "metadata": {},
     "source": [
      "Assume we want to sort these case insensitively:"
     ]
    },
    {
     "cell_type": "code",
     "collapsed": false,
     "input": [
      "values.sort( key = lambda x: x.upper() )\n",
      "print values"
     ],
     "language": "python",
     "metadata": {},
     "outputs": [
      {
       "output_type": "stream",
       "stream": "stdout",
       "text": [
        "['africa', 'Australia', 'EUROPE']\n"
       ]
      }
     ],
     "prompt_number": 27
    },
    {
     "cell_type": "markdown",
     "metadata": {},
     "source": [
      "You can use this technique to sort a list by arbitrary properties of the elements of a list. For example we might want to sort some DNA fragments according their length:"
     ]
    },
    {
     "cell_type": "code",
     "collapsed": false,
     "input": [
      "frags = [\"ACTGTGT\", \"TTCTG\", \"TTA\", \"GGTGTACAT\", \"AAAATCTGAAA\"]\n",
      "frags.sort()\n",
      "print \"sorted alphabetically:\",frags\n",
      "\n",
      "frags.sort(key = lambda s: len(s))\n",
      "print \"sorted by length:\",frags"
     ],
     "language": "python",
     "metadata": {},
     "outputs": [
      {
       "output_type": "stream",
       "stream": "stdout",
       "text": [
        "sorted alphabetically: ['AAAATCTGAAA', 'ACTGTGT', 'GGTGTACAT', 'TTA', 'TTCTG']\n",
        "sorted by length: ['TTA', 'TTCTG', 'ACTGTGT', 'GGTGTACAT', 'AAAATCTGAAA']\n"
       ]
      }
     ],
     "prompt_number": 28
    },
    {
     "cell_type": "heading",
     "level": 2,
     "metadata": {},
     "source": [
      "Return value"
     ]
    },
    {
     "cell_type": "markdown",
     "metadata": {},
     "source": [
      "The <tt>return</tt> keyword immediately exits the function, and no more of the code in that function will be run once the function has returned (as program flow will be returned to the call site)"
     ]
    },
    {
     "cell_type": "code",
     "collapsed": false,
     "input": [
      "def getSign(value):\n",
      "    \n",
      "    if value > 0:\n",
      "        return \"Positive\"\n",
      "    \n",
      "    elif value < 0:\n",
      "        return \"Negative\"\n",
      "    \n",
      "    return # implicit 'None'\n",
      "\n",
      "    print \"Hello world\" # execution does not reach this line\n",
      "    \n",
      "print \"getSign( 33.6 ):\", getSign( 33.6 )\n",
      "print \"getSign( -7 ):\", getSign( -7 )\n",
      "print \"getSign( 0 ):\", getSign( 0 )"
     ],
     "language": "python",
     "metadata": {},
     "outputs": [
      {
       "output_type": "stream",
       "stream": "stdout",
       "text": [
        "getSign( 33.6 ): Positive\n",
        "getSign( -7 ): Negative\n",
        "getSign( 0 ): None\n"
       ]
      }
     ],
     "prompt_number": 29
    },
    {
     "cell_type": "markdown",
     "metadata": {},
     "source": [
      "It is possible to return multiple value via a tuple:"
     ]
    },
    {
     "cell_type": "code",
     "collapsed": false,
     "input": [
      "def myFunction(value1, value2):\n",
      "    \n",
      "    total = value1 + value2\n",
      "    difference = value1 - value2\n",
      "    product = value1 * value2\n",
      "    \n",
      "    return total, difference, product\n",
      "\n",
      "values = myFunction( 3, 7 )\n",
      "print \"Results as a tuple:\", values\n",
      "x, y, z = myFunction( 3, 7 ) # tuple unpacking\n",
      "print \"x:\", x\n",
      "print \"y:\", y\n",
      "print \"z:\", z"
     ],
     "language": "python",
     "metadata": {},
     "outputs": [
      {
       "output_type": "stream",
       "stream": "stdout",
       "text": [
        "Results as a tuple: (10, -4, 21)\n",
        "x: 10\n",
        "y: -4\n",
        "z: 21\n"
       ]
      }
     ],
     "prompt_number": 30
    },
    {
     "cell_type": "heading",
     "level": 2,
     "metadata": {},
     "source": [
      "Exercises"
     ]
    },
    {
     "cell_type": "markdown",
     "metadata": {},
     "source": [
      "1. Use an anonymous function to sort the same list of DNA fragments as above by the number of Adenine bases.\n",
      "2. Write a function that counts the number of each base found in a DNA sequence. Return the result as a tuple of 4 numbers representing the counts of each base `A`, `C`, `G` and `T`."
     ]
    },
    {
     "cell_type": "heading",
     "level": 2,
     "metadata": {},
     "source": [
      "Variable scope"
     ]
    },
    {
     "cell_type": "markdown",
     "metadata": {},
     "source": [
      "Each variable has its scope. Variables defined at the outermost level are known as _globals_ (although typically only for the current module). In contrast, variables defined within functions are local to the function, and cannot be accessed from the outside."
     ]
    },
    {
     "cell_type": "code",
     "collapsed": false,
     "input": [
      "def mathFunction(x, y):\n",
      "    result = ( x + y ) * ( x - y )\n",
      "    return result"
     ],
     "language": "python",
     "metadata": {},
     "outputs": [],
     "prompt_number": 31
    },
    {
     "cell_type": "code",
     "collapsed": false,
     "input": [
      "answer = mathFunction( 4, 7 )\n",
      "print answer"
     ],
     "language": "python",
     "metadata": {},
     "outputs": [
      {
       "output_type": "stream",
       "stream": "stdout",
       "text": [
        "-33\n"
       ]
      }
     ],
     "prompt_number": 32
    },
    {
     "cell_type": "code",
     "collapsed": false,
     "input": [
      "answer = mathFunction( 4, 7 )\n",
      "print result"
     ],
     "language": "python",
     "metadata": {},
     "outputs": [
      {
       "ename": "NameError",
       "evalue": "name 'result' is not defined",
       "output_type": "pyerr",
       "traceback": [
        "\u001b[0;31m---------------------------------------------------------------------------\u001b[0m\n\u001b[0;31mNameError\u001b[0m                                 Traceback (most recent call last)",
        "\u001b[0;32m<ipython-input-33-6014ea6f99fd>\u001b[0m in \u001b[0;36m<module>\u001b[0;34m()\u001b[0m\n\u001b[1;32m      1\u001b[0m \u001b[0manswer\u001b[0m \u001b[0;34m=\u001b[0m \u001b[0mmathFunction\u001b[0m\u001b[0;34m(\u001b[0m \u001b[0;36m4\u001b[0m\u001b[0;34m,\u001b[0m \u001b[0;36m7\u001b[0m \u001b[0;34m)\u001b[0m\u001b[0;34m\u001b[0m\u001b[0m\n\u001b[0;32m----> 2\u001b[0;31m \u001b[0;32mprint\u001b[0m \u001b[0mresult\u001b[0m\u001b[0;34m\u001b[0m\u001b[0m\n\u001b[0m",
        "\u001b[0;31mNameError\u001b[0m: name 'result' is not defined"
       ]
      }
     ],
     "prompt_number": 33
    },
    {
     "cell_type": "markdown",
     "metadata": {},
     "source": [
      "Functions can still access global variables. However, if a local variable with the same name as a global is defined, it hides the global:"
     ]
    },
    {
     "cell_type": "code",
     "collapsed": false,
     "input": [
      "counter = 0 # global variable\n",
      "\n",
      "def show_counter():\n",
      "    print counter\n",
      "    \n",
      "def set_counter(value):\n",
      "    counter = value # creates a new variable with the same name\n",
      "    print \"Counter value: from set_counter: %s\" % counter\n",
      "    print \"Counter value via show_counter from set_counter:\"\n",
      "    show_counter()\n",
      "    \n",
      "show_counter()\n",
      "set_counter( 10 )\n",
      "print \"Counter value via show_counter from global scope\"\n",
      "show_counter()"
     ],
     "language": "python",
     "metadata": {},
     "outputs": [
      {
       "output_type": "stream",
       "stream": "stdout",
       "text": [
        "0\n",
        "Counter value: from set_counter: 10\n",
        "Counter value via show_counter from set_counter:\n",
        "0\n",
        "Counter value via show_counter from global scope\n",
        "0\n"
       ]
      }
     ],
     "prompt_number": 34
    },
    {
     "cell_type": "markdown",
     "metadata": {},
     "source": [
      "Python detects whether an assignment is made by the code to a given name, and decides whether a name refers to a local or a global variable. This can create surprising results:"
     ]
    },
    {
     "cell_type": "code",
     "collapsed": false,
     "input": [
      "def set_counter2(value):\n",
      "    print \"Counter before setting: %s\" % counter # counter refers to the local variable that will be created in the next line\n",
      "    counter = value\n",
      "    print \"Counter after setting: %s\" % counter\n",
      "\n",
      "show_counter()\n",
      "set_counter2( 10 )"
     ],
     "language": "python",
     "metadata": {},
     "outputs": [
      {
       "ename": "UnboundLocalError",
       "evalue": "local variable 'counter' referenced before assignment",
       "output_type": "pyerr",
       "traceback": [
        "\u001b[0;31m---------------------------------------------------------------------------\u001b[0m\n\u001b[0;31mUnboundLocalError\u001b[0m                         Traceback (most recent call last)",
        "\u001b[0;32m<ipython-input-35-c10385210b9c>\u001b[0m in \u001b[0;36m<module>\u001b[0;34m()\u001b[0m\n\u001b[1;32m      5\u001b[0m \u001b[0;34m\u001b[0m\u001b[0m\n\u001b[1;32m      6\u001b[0m \u001b[0mshow_counter\u001b[0m\u001b[0;34m(\u001b[0m\u001b[0;34m)\u001b[0m\u001b[0;34m\u001b[0m\u001b[0m\n\u001b[0;32m----> 7\u001b[0;31m \u001b[0mset_counter2\u001b[0m\u001b[0;34m(\u001b[0m \u001b[0;36m10\u001b[0m \u001b[0;34m)\u001b[0m\u001b[0;34m\u001b[0m\u001b[0m\n\u001b[0m",
        "\u001b[0;32m<ipython-input-35-c10385210b9c>\u001b[0m in \u001b[0;36mset_counter2\u001b[0;34m(value)\u001b[0m\n\u001b[1;32m      1\u001b[0m \u001b[0;32mdef\u001b[0m \u001b[0mset_counter2\u001b[0m\u001b[0;34m(\u001b[0m\u001b[0mvalue\u001b[0m\u001b[0;34m)\u001b[0m\u001b[0;34m:\u001b[0m\u001b[0;34m\u001b[0m\u001b[0m\n\u001b[0;32m----> 2\u001b[0;31m     \u001b[0;32mprint\u001b[0m \u001b[0;34m\"Counter before setting: %s\"\u001b[0m \u001b[0;34m%\u001b[0m \u001b[0mcounter\u001b[0m \u001b[0;31m# counter refers to the local variable that will be created in the next line\u001b[0m\u001b[0;34m\u001b[0m\u001b[0m\n\u001b[0m\u001b[1;32m      3\u001b[0m     \u001b[0mcounter\u001b[0m \u001b[0;34m=\u001b[0m \u001b[0mvalue\u001b[0m\u001b[0;34m\u001b[0m\u001b[0m\n\u001b[1;32m      4\u001b[0m     \u001b[0;32mprint\u001b[0m \u001b[0;34m\"Counter after setting: %s\"\u001b[0m \u001b[0;34m%\u001b[0m \u001b[0mcounter\u001b[0m\u001b[0;34m\u001b[0m\u001b[0m\n\u001b[1;32m      5\u001b[0m \u001b[0;34m\u001b[0m\u001b[0m\n",
        "\u001b[0;31mUnboundLocalError\u001b[0m: local variable 'counter' referenced before assignment"
       ]
      },
      {
       "output_type": "stream",
       "stream": "stdout",
       "text": [
        "0\n"
       ]
      }
     ],
     "prompt_number": 35
    },
    {
     "cell_type": "markdown",
     "metadata": {},
     "source": [
      "The solution is to use the ``global`` keyword to tell Python to bind the name with the global:"
     ]
    },
    {
     "cell_type": "code",
     "collapsed": false,
     "input": [
      "def set_counter3(value):\n",
      "    global counter\n",
      "    print \"Counter before setting: %s\" % counter\n",
      "    counter = value\n",
      "    print \"Counter after setting: %s\" % counter\n",
      "    \n",
      "show_counter()\n",
      "set_counter3( 10 )\n",
      "print \"Counter value via show_counter\"\n",
      "show_counter()"
     ],
     "language": "python",
     "metadata": {},
     "outputs": [
      {
       "output_type": "stream",
       "stream": "stdout",
       "text": [
        "0\n",
        "Counter before setting: 0\n",
        "Counter after setting: 10\n",
        "Counter value via show_counter\n",
        "10\n"
       ]
      }
     ],
     "prompt_number": 36
    },
    {
     "cell_type": "markdown",
     "metadata": {},
     "source": [
      "However, it is normally safer to avoid global variables and passing through arguments instead."
     ]
    },
    {
     "cell_type": "code",
     "collapsed": false,
     "input": [
      "def increment(counter):\n",
      "    return counter + 1\n",
      "\n",
      "counter = 0\n",
      "counter = increment( counter )\n",
      "print counter"
     ],
     "language": "python",
     "metadata": {},
     "outputs": [
      {
       "output_type": "stream",
       "stream": "stdout",
       "text": [
        "1\n"
       ]
      }
     ],
     "prompt_number": 37
    },
    {
     "cell_type": "heading",
     "level": 2,
     "metadata": {},
     "source": [
      "Bio examples"
     ]
    },
    {
     "cell_type": "heading",
     "level": 3,
     "metadata": {},
     "source": [
      "Translate RNA sequence to protein sequence"
     ]
    },
    {
     "cell_type": "code",
     "collapsed": false,
     "input": [
      "standardGeneticCode = { \n",
      "          'UUU':'Phe', 'UUC':'Phe', 'UCU':'Ser', 'UCC':'Ser',\n",
      "          'UAU':'Tyr', 'UAC':'Tyr', 'UGU':'Cys', 'UGC':'Cys',\n",
      "          'UUA':'Leu', 'UCA':'Ser', 'UAA':None,  'UGA':None,\n",
      "          'UUG':'Leu', 'UCG':'Ser', 'UAG':None,  'UGG':'Trp',\n",
      "          'CUU':'Leu', 'CUC':'Leu', 'CCU':'Pro', 'CCC':'Pro',\n",
      "          'CAU':'His', 'CAC':'His', 'CGU':'Arg', 'CGC':'Arg',\n",
      "          'CUA':'Leu', 'CUG':'Leu', 'CCA':'Pro', 'CCG':'Pro',\n",
      "          'CAA':'Gln', 'CAG':'Gln', 'CGA':'Arg', 'CGG':'Arg',\n",
      "          'AUU':'Ile', 'AUC':'Ile', 'ACU':'Thr', 'ACC':'Thr',\n",
      "          'AAU':'Asn', 'AAC':'Asn', 'AGU':'Ser', 'AGC':'Ser',\n",
      "          'AUA':'Ile', 'ACA':'Thr', 'AAA':'Lys', 'AGA':'Arg',\n",
      "          'AUG':'Met', 'ACG':'Thr', 'AAG':'Lys', 'AGG':'Arg',\n",
      "          'GUU':'Val', 'GUC':'Val', 'GCU':'Ala', 'GCC':'Ala',\n",
      "          'GAU':'Asp', 'GAC':'Asp', 'GGU':'Gly', 'GGC':'Gly',\n",
      "          'GUA':'Val', 'GUG':'Val', 'GCA':'Ala', 'GCG':'Ala', \n",
      "          'GAA':'Glu', 'GAG':'Glu', 'GGA':'Gly', 'GGG':'Gly'}\n",
      "\n",
      "\n",
      "def proteinTranslation(seq, geneticCode):\n",
      "  \"\"\" This function translates a nucleic acid sequence into a\n",
      "      protein sequence, until the end or until it comes across\n",
      "      a stop codon \"\"\"\n",
      "   \n",
      "  seq = seq.replace('T','U') # Make sure we have RNA sequence\n",
      "  proteinSeq = []\n",
      "\n",
      "  i = 0\n",
      "  while i+2 < len(seq):\n",
      "    codon = seq[i:i+3]\n",
      "    aminoAcid = geneticCode[codon]\n",
      "\n",
      "    if aminoAcid is None: # Found stop codon\n",
      "      break\n",
      "\n",
      "    proteinSeq.append(aminoAcid)\n",
      "    i += 3\n",
      "\n",
      "  return proteinSeq\n",
      "\n",
      "dnaSeq = 'ATGGTGCATCTGACTCCTGAGGAGAAGTCTGCCGTTACTGCCCTGTGGGGCAAGGTG'\n",
      "protein3LetterSeq = proteinTranslation(dnaSeq, standardGeneticCode)\n",
      "print protein3LetterSeq"
     ],
     "language": "python",
     "metadata": {},
     "outputs": [
      {
       "output_type": "stream",
       "stream": "stdout",
       "text": [
        "['Met', 'Val', 'His', 'Leu', 'Thr', 'Pro', 'Glu', 'Glu', 'Lys', 'Ser', 'Ala', 'Val', 'Thr', 'Ala', 'Leu', 'Trp', 'Gly', 'Lys', 'Val']\n"
       ]
      }
     ],
     "prompt_number": 38
    },
    {
     "cell_type": "heading",
     "level": 3,
     "metadata": {},
     "source": [
      "G+C content along chain"
     ]
    },
    {
     "cell_type": "code",
     "collapsed": false,
     "input": [
      "def calcGcContent(seq, winSize=10):\n",
      "  \n",
      "  gcValues = []\n",
      "  \n",
      "  for i in range(len(seq)-winSize):\n",
      "\n",
      "    subSeq = seq[i:i+winSize]\n",
      "\n",
      "    numGc = subSeq.count('G') + subSeq.count('C')\n",
      "\n",
      "    value = numGc/float(winSize)  # at least in Python 2.4, 2.5\n",
      "\n",
      "    gcValues.append(value)\n",
      "\n",
      "  return gcValues\n",
      "\n",
      "gcResults = calcGcContent( dnaSeq )\n",
      "print gcResults"
     ],
     "language": "python",
     "metadata": {},
     "outputs": [
      {
       "output_type": "stream",
       "stream": "stdout",
       "text": [
        "[0.5, 0.5, 0.6, 0.5, 0.5, 0.5, 0.5, 0.5, 0.5, 0.6, 0.5, 0.6, 0.6, 0.6, 0.6, 0.6, 0.5, 0.5, 0.5, 0.5, 0.5, 0.5, 0.5, 0.6, 0.6, 0.6, 0.6, 0.5, 0.6, 0.5, 0.6, 0.6, 0.6, 0.6, 0.5, 0.6, 0.6, 0.7, 0.7, 0.8, 0.8, 0.8, 0.7, 0.6, 0.7, 0.7, 0.7]\n"
       ]
      }
     ],
     "prompt_number": 39
    },
    {
     "cell_type": "code",
     "collapsed": false,
     "input": [
      "from matplotlib import pyplot\n",
      "pyplot.plot( gcResults )\n",
      "pyplot.show()"
     ],
     "language": "python",
     "metadata": {},
     "outputs": [
      {
       "metadata": {},
       "output_type": "display_data",
       "png": "[encoded data removed]",
       "text": [
        "<matplotlib.figure.Figure at 0x103c75e50>"
       ]
      }
     ],
     "prompt_number": 40
    },
    {
     "cell_type": "heading",
     "level": 3,
     "metadata": {},
     "source": [
      "Protein hydrophobicity plot"
     ]
    },
    {
     "cell_type": "code",
     "collapsed": false,
     "input": [
      "gesScale = {'F':-3.7,'M':-3.4,'I':-3.1,'L':-2.8,'V':-2.6,\n",
      "            'C':-2.0,'W':-1.9,'A':-1.6,'T':-1.2,'G':-1.0,\n",
      "            'S':-0.6,'P': 0.2,'Y': 0.7,'H': 3.0,'Q': 4.1,\n",
      "            'N': 4.8,'E': 8.2,'K': 8.8,'D': 9.2,'R':12.3}\n",
      "\n",
      "def hydrophobicitySearch(seq, scale, winSize=15):\n",
      "  \"\"\"Scan a protein sequence for hydrophobic regions using the GES\n",
      "     hydrophobicity scale.\n",
      "  \"\"\"\n",
      "\n",
      "  score = None\n",
      "  scoreList  = []\n",
      "\n",
      "  for i in range(len(seq)- winSize):\n",
      "    j = i + winSize\n",
      "    \n",
      "    if score is None:\n",
      "      score = 0\n",
      "      for k in range(i,j):\n",
      "        score += scale[seq[k]]\n",
      "\n",
      "    else:\n",
      "      score += scale[seq[j-1]]\n",
      "      score -= scale[seq[i-1]]\n",
      "\n",
      "    scoreList.append(score)\n",
      "\n",
      "  return scoreList\n",
      "\n",
      "proteinSeq = 'IRTNGTHMQPLLKLMKFQKFLLELFTLQKRKPEKGYNLPIISLNQ'\n",
      "scores = hydrophobicitySearch(proteinSeq, gesScale)\n",
      "print scores"
     ],
     "language": "python",
     "metadata": {},
     "outputs": [
      {
       "output_type": "stream",
       "stream": "stdout",
       "text": [
        "[11.499999999999998, 23.4, 7.399999999999999, 12.699999999999998, 16.7, 14.0, 12.399999999999999, 6.599999999999998, 18.199999999999996, 11.299999999999995, 7.399999999999995, 8.999999999999995, 8.999999999999995, 4.299999999999994, 15.899999999999995, 31.599999999999994, 31.59999999999999, 35.49999999999999, 39.59999999999999, 39.599999999999994, 42.3, 45.8, 53.39999999999999, 42.39999999999999, 45.39999999999999, 45.99999999999999, 44.099999999999994, 46.29999999999999, 39.39999999999999, 35.39999999999999]\n"
       ]
      }
     ],
     "prompt_number": 41
    },
    {
     "cell_type": "code",
     "collapsed": false,
     "input": [
      "from matplotlib import pyplot\n",
      "pyplot.plot(scores)\n",
      "pyplot.show()"
     ],
     "language": "python",
     "metadata": {},
     "outputs": [
      {
       "metadata": {},
       "output_type": "display_data",
       "png": "[encoded data removed]",
       "text": [
        "<matplotlib.figure.Figure at 0x1026feb90>"
       ]
      }
     ],
     "prompt_number": 42
    }
   ],
   "metadata": {}
  }
 ]
}